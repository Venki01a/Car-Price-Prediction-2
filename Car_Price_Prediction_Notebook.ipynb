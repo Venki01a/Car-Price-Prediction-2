{
 "cells": [
  {
   "cell_type": "code",
   "execution_count": 48,
   "id": "7efd508d-2057-4ec5-a58c-1a9e98e53204",
   "metadata": {},
   "outputs": [],
   "source": [
    "import numpy as np\n",
    "import pandas as pd \n",
    "import matplotlib.pyplot as plt\n",
    "import seaborn as sns\n",
    "import os\n",
    "import warnings\n",
    "warnings.filterwarnings('ignore')"
   ]
  },
  {
   "cell_type": "code",
   "execution_count": 49,
   "id": "c849568d-b757-4050-b1a0-1430402a5d5a",
   "metadata": {},
   "outputs": [
    {
     "name": "stdout",
     "output_type": "stream",
     "text": [
      "      model  year  price transmission  mileage fuelType  tax   mpg  engineSize\n",
      "0        A1  2017  12500       Manual    15735   Petrol  150  55.4         1.4\n",
      "1        A6  2016  16500    Automatic    36203   Diesel   20  64.2         2.0\n",
      "2        A1  2016  11000       Manual    29946   Petrol   30  55.4         1.4\n",
      "3        A4  2017  16800    Automatic    25952   Diesel  145  67.3         2.0\n",
      "4        A3  2019  17300       Manual     1998   Petrol  145  49.6         1.0\n",
      "...     ...   ...    ...          ...      ...      ...  ...   ...         ...\n",
      "10663    A3  2020  16999       Manual     4018   Petrol  145  49.6         1.0\n",
      "10664    A3  2020  16999       Manual     1978   Petrol  150  49.6         1.0\n",
      "10665    A3  2020  17199       Manual      609   Petrol  150  49.6         1.0\n",
      "10666    Q3  2017  19499    Automatic     8646   Petrol  150  47.9         1.4\n",
      "10667    Q3  2016  15999       Manual    11855   Petrol  150  47.9         1.4\n",
      "\n",
      "[10668 rows x 9 columns]\n"
     ]
    }
   ],
   "source": [
    "car_data=pd.read_csv('audi.csv')\n",
    "print(car_data)"
   ]
  },
  {
   "cell_type": "markdown",
   "id": "1e91f680-99a5-4945-86c7-efb2a81da7b0",
   "metadata": {},
   "source": [
    "## Manual EDA"
   ]
  },
  {
   "cell_type": "code",
   "execution_count": 50,
   "id": "86bddbda-fb69-410d-96c7-a2a6c29badcc",
   "metadata": {},
   "outputs": [
    {
     "name": "stdout",
     "output_type": "stream",
     "text": [
      "10668\n"
     ]
    }
   ],
   "source": [
    "# Number of records\n",
    "print(len(car_data))"
   ]
  },
  {
   "cell_type": "code",
   "execution_count": 51,
   "id": "c6ea57d7-6a40-48d7-85f8-25d47d175000",
   "metadata": {},
   "outputs": [
    {
     "name": "stdout",
     "output_type": "stream",
     "text": [
      "(10668, 9)\n"
     ]
    }
   ],
   "source": [
    "# Number of records- Shape\n",
    "print(car_data.shape)"
   ]
  },
  {
   "cell_type": "code",
   "execution_count": 52,
   "id": "f749c87c-d4eb-4dd3-a0d7-60ef056b2f76",
   "metadata": {},
   "outputs": [
    {
     "name": "stdout",
     "output_type": "stream",
     "text": [
      "model            object\n",
      "year              int64\n",
      "price             int64\n",
      "transmission     object\n",
      "mileage           int64\n",
      "fuelType         object\n",
      "tax               int64\n",
      "mpg             float64\n",
      "engineSize      float64\n",
      "dtype: object\n"
     ]
    }
   ],
   "source": [
    "# Checking the datatype of each column\n",
    "print(car_data.dtypes)"
   ]
  },
  {
   "cell_type": "code",
   "execution_count": 53,
   "id": "fae0ef39-3d5b-471f-9405-80c350c24bdc",
   "metadata": {},
   "outputs": [
    {
     "name": "stdout",
     "output_type": "stream",
     "text": [
      "model           0\n",
      "year            0\n",
      "price           0\n",
      "transmission    0\n",
      "mileage         0\n",
      "fuelType        0\n",
      "tax             0\n",
      "mpg             0\n",
      "engineSize      0\n",
      "dtype: int64\n"
     ]
    }
   ],
   "source": [
    "# Checking null values\n",
    "print(car_data.isna().sum())"
   ]
  },
  {
   "cell_type": "code",
   "execution_count": 54,
   "id": "27a5e8e5-33b6-4c1d-82f0-a375efbc2a30",
   "metadata": {},
   "outputs": [
    {
     "name": "stdout",
     "output_type": "stream",
     "text": [
      "<class 'pandas.core.frame.DataFrame'>\n",
      "RangeIndex: 10668 entries, 0 to 10667\n",
      "Data columns (total 9 columns):\n",
      " #   Column        Non-Null Count  Dtype  \n",
      "---  ------        --------------  -----  \n",
      " 0   model         10668 non-null  object \n",
      " 1   year          10668 non-null  int64  \n",
      " 2   price         10668 non-null  int64  \n",
      " 3   transmission  10668 non-null  object \n",
      " 4   mileage       10668 non-null  int64  \n",
      " 5   fuelType      10668 non-null  object \n",
      " 6   tax           10668 non-null  int64  \n",
      " 7   mpg           10668 non-null  float64\n",
      " 8   engineSize    10668 non-null  float64\n",
      "dtypes: float64(2), int64(4), object(3)\n",
      "memory usage: 750.2+ KB\n",
      "None\n"
     ]
    }
   ],
   "source": [
    "# Dataset information\n",
    "print(car_data.info())"
   ]
  },
  {
   "cell_type": "code",
   "execution_count": 55,
   "id": "33f15258-88b8-4c2f-8529-5a457c4d0dd6",
   "metadata": {},
   "outputs": [
    {
     "data": {
      "text/html": [
       "<div>\n",
       "<style scoped>\n",
       "    .dataframe tbody tr th:only-of-type {\n",
       "        vertical-align: middle;\n",
       "    }\n",
       "\n",
       "    .dataframe tbody tr th {\n",
       "        vertical-align: top;\n",
       "    }\n",
       "\n",
       "    .dataframe thead th {\n",
       "        text-align: right;\n",
       "    }\n",
       "</style>\n",
       "<table border=\"1\" class=\"dataframe\">\n",
       "  <thead>\n",
       "    <tr style=\"text-align: right;\">\n",
       "      <th></th>\n",
       "      <th>year</th>\n",
       "      <th>price</th>\n",
       "      <th>mileage</th>\n",
       "      <th>tax</th>\n",
       "      <th>mpg</th>\n",
       "      <th>engineSize</th>\n",
       "    </tr>\n",
       "  </thead>\n",
       "  <tbody>\n",
       "    <tr>\n",
       "      <th>count</th>\n",
       "      <td>10668.000000</td>\n",
       "      <td>10668.000000</td>\n",
       "      <td>10668.000000</td>\n",
       "      <td>10668.000000</td>\n",
       "      <td>10668.000000</td>\n",
       "      <td>10668.000000</td>\n",
       "    </tr>\n",
       "    <tr>\n",
       "      <th>mean</th>\n",
       "      <td>2017.100675</td>\n",
       "      <td>22896.685039</td>\n",
       "      <td>24827.244001</td>\n",
       "      <td>126.011436</td>\n",
       "      <td>50.770022</td>\n",
       "      <td>1.930709</td>\n",
       "    </tr>\n",
       "    <tr>\n",
       "      <th>std</th>\n",
       "      <td>2.167494</td>\n",
       "      <td>11714.841888</td>\n",
       "      <td>23505.257205</td>\n",
       "      <td>67.170294</td>\n",
       "      <td>12.949782</td>\n",
       "      <td>0.602957</td>\n",
       "    </tr>\n",
       "    <tr>\n",
       "      <th>min</th>\n",
       "      <td>1997.000000</td>\n",
       "      <td>1490.000000</td>\n",
       "      <td>1.000000</td>\n",
       "      <td>0.000000</td>\n",
       "      <td>18.900000</td>\n",
       "      <td>0.000000</td>\n",
       "    </tr>\n",
       "    <tr>\n",
       "      <th>25%</th>\n",
       "      <td>2016.000000</td>\n",
       "      <td>15130.750000</td>\n",
       "      <td>5968.750000</td>\n",
       "      <td>125.000000</td>\n",
       "      <td>40.900000</td>\n",
       "      <td>1.500000</td>\n",
       "    </tr>\n",
       "    <tr>\n",
       "      <th>50%</th>\n",
       "      <td>2017.000000</td>\n",
       "      <td>20200.000000</td>\n",
       "      <td>19000.000000</td>\n",
       "      <td>145.000000</td>\n",
       "      <td>49.600000</td>\n",
       "      <td>2.000000</td>\n",
       "    </tr>\n",
       "    <tr>\n",
       "      <th>75%</th>\n",
       "      <td>2019.000000</td>\n",
       "      <td>27990.000000</td>\n",
       "      <td>36464.500000</td>\n",
       "      <td>145.000000</td>\n",
       "      <td>58.900000</td>\n",
       "      <td>2.000000</td>\n",
       "    </tr>\n",
       "    <tr>\n",
       "      <th>max</th>\n",
       "      <td>2020.000000</td>\n",
       "      <td>145000.000000</td>\n",
       "      <td>323000.000000</td>\n",
       "      <td>580.000000</td>\n",
       "      <td>188.300000</td>\n",
       "      <td>6.300000</td>\n",
       "    </tr>\n",
       "  </tbody>\n",
       "</table>\n",
       "</div>"
      ],
      "text/plain": [
       "               year          price        mileage           tax           mpg  \\\n",
       "count  10668.000000   10668.000000   10668.000000  10668.000000  10668.000000   \n",
       "mean    2017.100675   22896.685039   24827.244001    126.011436     50.770022   \n",
       "std        2.167494   11714.841888   23505.257205     67.170294     12.949782   \n",
       "min     1997.000000    1490.000000       1.000000      0.000000     18.900000   \n",
       "25%     2016.000000   15130.750000    5968.750000    125.000000     40.900000   \n",
       "50%     2017.000000   20200.000000   19000.000000    145.000000     49.600000   \n",
       "75%     2019.000000   27990.000000   36464.500000    145.000000     58.900000   \n",
       "max     2020.000000  145000.000000  323000.000000    580.000000    188.300000   \n",
       "\n",
       "         engineSize  \n",
       "count  10668.000000  \n",
       "mean       1.930709  \n",
       "std        0.602957  \n",
       "min        0.000000  \n",
       "25%        1.500000  \n",
       "50%        2.000000  \n",
       "75%        2.000000  \n",
       "max        6.300000  "
      ]
     },
     "metadata": {},
     "output_type": "display_data"
    }
   ],
   "source": [
    "# Dataset details of numeric columns\n",
    "display(car_data.describe())"
   ]
  },
  {
   "cell_type": "code",
   "execution_count": 56,
   "id": "9b716ff0-c898-4026-b858-14e2bc4e18ac",
   "metadata": {},
   "outputs": [
    {
     "name": "stdout",
     "output_type": "stream",
     "text": [
      "(10668, 8)\n",
      "[[' A1' 2017 'Manual' ... 150 55.4 1.4]\n",
      " [' A6' 2016 'Automatic' ... 20 64.2 2.0]\n",
      " [' A1' 2016 'Manual' ... 30 55.4 1.4]\n",
      " ...\n",
      " [' A3' 2020 'Manual' ... 150 49.6 1.0]\n",
      " [' Q3' 2017 'Automatic' ... 150 47.9 1.4]\n",
      " [' Q3' 2016 'Manual' ... 150 47.9 1.4]]\n"
     ]
    }
   ],
   "source": [
    "# Create x\n",
    "x=car_data.iloc[:,[0,1,3,4,5,6,7,8]].values\n",
    "print(x.shape)\n",
    "print(x)"
   ]
  },
  {
   "cell_type": "code",
   "execution_count": 57,
   "id": "1130027b-448d-4d29-80eb-434403b5f0aa",
   "metadata": {},
   "outputs": [
    {
     "name": "stdout",
     "output_type": "stream",
     "text": [
      "(10668, 1)\n",
      "[[12500]\n",
      " [16500]\n",
      " [11000]\n",
      " ...\n",
      " [17199]\n",
      " [19499]\n",
      " [15999]]\n"
     ]
    }
   ],
   "source": [
    "# Create y\n",
    "y=car_data.iloc[:,[2]].values\n",
    "print(y.shape)\n",
    "print(y)"
   ]
  },
  {
   "cell_type": "code",
   "execution_count": 58,
   "id": "f41005ed-a2ab-469c-87f9-52523040ef00",
   "metadata": {},
   "outputs": [
    {
     "data": {
      "text/html": [
       "<div>\n",
       "<style scoped>\n",
       "    .dataframe tbody tr th:only-of-type {\n",
       "        vertical-align: middle;\n",
       "    }\n",
       "\n",
       "    .dataframe tbody tr th {\n",
       "        vertical-align: top;\n",
       "    }\n",
       "\n",
       "    .dataframe thead th {\n",
       "        text-align: right;\n",
       "    }\n",
       "</style>\n",
       "<table border=\"1\" class=\"dataframe\">\n",
       "  <thead>\n",
       "    <tr style=\"text-align: right;\">\n",
       "      <th></th>\n",
       "      <th>0</th>\n",
       "      <th>1</th>\n",
       "      <th>2</th>\n",
       "      <th>3</th>\n",
       "      <th>4</th>\n",
       "      <th>5</th>\n",
       "      <th>6</th>\n",
       "      <th>7</th>\n",
       "    </tr>\n",
       "  </thead>\n",
       "  <tbody>\n",
       "    <tr>\n",
       "      <th>0</th>\n",
       "      <td>A1</td>\n",
       "      <td>2017</td>\n",
       "      <td>Manual</td>\n",
       "      <td>15735</td>\n",
       "      <td>Petrol</td>\n",
       "      <td>150</td>\n",
       "      <td>55.4</td>\n",
       "      <td>1.4</td>\n",
       "    </tr>\n",
       "    <tr>\n",
       "      <th>1</th>\n",
       "      <td>A6</td>\n",
       "      <td>2016</td>\n",
       "      <td>Automatic</td>\n",
       "      <td>36203</td>\n",
       "      <td>Diesel</td>\n",
       "      <td>20</td>\n",
       "      <td>64.2</td>\n",
       "      <td>2.0</td>\n",
       "    </tr>\n",
       "    <tr>\n",
       "      <th>2</th>\n",
       "      <td>A1</td>\n",
       "      <td>2016</td>\n",
       "      <td>Manual</td>\n",
       "      <td>29946</td>\n",
       "      <td>Petrol</td>\n",
       "      <td>30</td>\n",
       "      <td>55.4</td>\n",
       "      <td>1.4</td>\n",
       "    </tr>\n",
       "    <tr>\n",
       "      <th>3</th>\n",
       "      <td>A4</td>\n",
       "      <td>2017</td>\n",
       "      <td>Automatic</td>\n",
       "      <td>25952</td>\n",
       "      <td>Diesel</td>\n",
       "      <td>145</td>\n",
       "      <td>67.3</td>\n",
       "      <td>2.0</td>\n",
       "    </tr>\n",
       "    <tr>\n",
       "      <th>4</th>\n",
       "      <td>A3</td>\n",
       "      <td>2019</td>\n",
       "      <td>Manual</td>\n",
       "      <td>1998</td>\n",
       "      <td>Petrol</td>\n",
       "      <td>145</td>\n",
       "      <td>49.6</td>\n",
       "      <td>1.0</td>\n",
       "    </tr>\n",
       "  </tbody>\n",
       "</table>\n",
       "</div>"
      ],
      "text/plain": [
       "     0     1          2      3       4    5     6    7\n",
       "0   A1  2017     Manual  15735  Petrol  150  55.4  1.4\n",
       "1   A6  2016  Automatic  36203  Diesel   20  64.2  2.0\n",
       "2   A1  2016     Manual  29946  Petrol   30  55.4  1.4\n",
       "3   A4  2017  Automatic  25952  Diesel  145  67.3  2.0\n",
       "4   A3  2019     Manual   1998  Petrol  145  49.6  1.0"
      ]
     },
     "metadata": {},
     "output_type": "display_data"
    }
   ],
   "source": [
    "# Display Top 5 - X variable \n",
    "display(pd.DataFrame(x).head())"
   ]
  },
  {
   "cell_type": "markdown",
   "id": "d4dc8941-f6be-41d2-b075-09fc887899ef",
   "metadata": {},
   "source": [
    "## Label Encoding To Columns- model and fuel type"
   ]
  },
  {
   "cell_type": "code",
   "execution_count": 59,
   "id": "673be27c-6023-4797-a1ab-d16c5b40fc77",
   "metadata": {},
   "outputs": [
    {
     "data": {
      "text/html": [
       "<div>\n",
       "<style scoped>\n",
       "    .dataframe tbody tr th:only-of-type {\n",
       "        vertical-align: middle;\n",
       "    }\n",
       "\n",
       "    .dataframe tbody tr th {\n",
       "        vertical-align: top;\n",
       "    }\n",
       "\n",
       "    .dataframe thead th {\n",
       "        text-align: right;\n",
       "    }\n",
       "</style>\n",
       "<table border=\"1\" class=\"dataframe\">\n",
       "  <thead>\n",
       "    <tr style=\"text-align: right;\">\n",
       "      <th></th>\n",
       "      <th>0</th>\n",
       "      <th>1</th>\n",
       "      <th>2</th>\n",
       "      <th>3</th>\n",
       "      <th>4</th>\n",
       "      <th>5</th>\n",
       "      <th>6</th>\n",
       "      <th>7</th>\n",
       "    </tr>\n",
       "  </thead>\n",
       "  <tbody>\n",
       "    <tr>\n",
       "      <th>0</th>\n",
       "      <td>0</td>\n",
       "      <td>2017</td>\n",
       "      <td>Manual</td>\n",
       "      <td>15735</td>\n",
       "      <td>2</td>\n",
       "      <td>150</td>\n",
       "      <td>55.4</td>\n",
       "      <td>1.4</td>\n",
       "    </tr>\n",
       "    <tr>\n",
       "      <th>1</th>\n",
       "      <td>5</td>\n",
       "      <td>2016</td>\n",
       "      <td>Automatic</td>\n",
       "      <td>36203</td>\n",
       "      <td>0</td>\n",
       "      <td>20</td>\n",
       "      <td>64.2</td>\n",
       "      <td>2.0</td>\n",
       "    </tr>\n",
       "    <tr>\n",
       "      <th>2</th>\n",
       "      <td>0</td>\n",
       "      <td>2016</td>\n",
       "      <td>Manual</td>\n",
       "      <td>29946</td>\n",
       "      <td>2</td>\n",
       "      <td>30</td>\n",
       "      <td>55.4</td>\n",
       "      <td>1.4</td>\n",
       "    </tr>\n",
       "    <tr>\n",
       "      <th>3</th>\n",
       "      <td>3</td>\n",
       "      <td>2017</td>\n",
       "      <td>Automatic</td>\n",
       "      <td>25952</td>\n",
       "      <td>0</td>\n",
       "      <td>145</td>\n",
       "      <td>67.3</td>\n",
       "      <td>2.0</td>\n",
       "    </tr>\n",
       "    <tr>\n",
       "      <th>4</th>\n",
       "      <td>2</td>\n",
       "      <td>2019</td>\n",
       "      <td>Manual</td>\n",
       "      <td>1998</td>\n",
       "      <td>2</td>\n",
       "      <td>145</td>\n",
       "      <td>49.6</td>\n",
       "      <td>1.0</td>\n",
       "    </tr>\n",
       "    <tr>\n",
       "      <th>...</th>\n",
       "      <td>...</td>\n",
       "      <td>...</td>\n",
       "      <td>...</td>\n",
       "      <td>...</td>\n",
       "      <td>...</td>\n",
       "      <td>...</td>\n",
       "      <td>...</td>\n",
       "      <td>...</td>\n",
       "    </tr>\n",
       "    <tr>\n",
       "      <th>10663</th>\n",
       "      <td>2</td>\n",
       "      <td>2020</td>\n",
       "      <td>Manual</td>\n",
       "      <td>4018</td>\n",
       "      <td>2</td>\n",
       "      <td>145</td>\n",
       "      <td>49.6</td>\n",
       "      <td>1.0</td>\n",
       "    </tr>\n",
       "    <tr>\n",
       "      <th>10664</th>\n",
       "      <td>2</td>\n",
       "      <td>2020</td>\n",
       "      <td>Manual</td>\n",
       "      <td>1978</td>\n",
       "      <td>2</td>\n",
       "      <td>150</td>\n",
       "      <td>49.6</td>\n",
       "      <td>1.0</td>\n",
       "    </tr>\n",
       "    <tr>\n",
       "      <th>10665</th>\n",
       "      <td>2</td>\n",
       "      <td>2020</td>\n",
       "      <td>Manual</td>\n",
       "      <td>609</td>\n",
       "      <td>2</td>\n",
       "      <td>150</td>\n",
       "      <td>49.6</td>\n",
       "      <td>1.0</td>\n",
       "    </tr>\n",
       "    <tr>\n",
       "      <th>10666</th>\n",
       "      <td>9</td>\n",
       "      <td>2017</td>\n",
       "      <td>Automatic</td>\n",
       "      <td>8646</td>\n",
       "      <td>2</td>\n",
       "      <td>150</td>\n",
       "      <td>47.9</td>\n",
       "      <td>1.4</td>\n",
       "    </tr>\n",
       "    <tr>\n",
       "      <th>10667</th>\n",
       "      <td>9</td>\n",
       "      <td>2016</td>\n",
       "      <td>Manual</td>\n",
       "      <td>11855</td>\n",
       "      <td>2</td>\n",
       "      <td>150</td>\n",
       "      <td>47.9</td>\n",
       "      <td>1.4</td>\n",
       "    </tr>\n",
       "  </tbody>\n",
       "</table>\n",
       "<p>10668 rows × 8 columns</p>\n",
       "</div>"
      ],
      "text/plain": [
       "       0     1          2      3  4    5     6    7\n",
       "0      0  2017     Manual  15735  2  150  55.4  1.4\n",
       "1      5  2016  Automatic  36203  0   20  64.2  2.0\n",
       "2      0  2016     Manual  29946  2   30  55.4  1.4\n",
       "3      3  2017  Automatic  25952  0  145  67.3  2.0\n",
       "4      2  2019     Manual   1998  2  145  49.6  1.0\n",
       "...   ..   ...        ...    ... ..  ...   ...  ...\n",
       "10663  2  2020     Manual   4018  2  145  49.6  1.0\n",
       "10664  2  2020     Manual   1978  2  150  49.6  1.0\n",
       "10665  2  2020     Manual    609  2  150  49.6  1.0\n",
       "10666  9  2017  Automatic   8646  2  150  47.9  1.4\n",
       "10667  9  2016     Manual  11855  2  150  47.9  1.4\n",
       "\n",
       "[10668 rows x 8 columns]"
      ]
     },
     "metadata": {},
     "output_type": "display_data"
    }
   ],
   "source": [
    "from sklearn.preprocessing import LabelEncoder\n",
    "l1=LabelEncoder()\n",
    "x[:,0]=l1.fit_transform(x[:,0])\n",
    "l2=LabelEncoder()\n",
    "x[:,4]=l2.fit_transform(x[:,4])\n",
    "display(pd.DataFrame(x))"
   ]
  },
  {
   "cell_type": "markdown",
   "id": "bc383a3f-495b-402a-83e5-d4bf079cc06d",
   "metadata": {},
   "source": [
    "## One Hot Encoding To Column- transmission\n"
   ]
  },
  {
   "cell_type": "code",
   "execution_count": 60,
   "id": "54d210af-4672-4350-8233-c248e173ac28",
   "metadata": {},
   "outputs": [
    {
     "data": {
      "text/plain": [
       "(10668, 10)"
      ]
     },
     "metadata": {},
     "output_type": "display_data"
    },
    {
     "data": {
      "text/html": [
       "<div>\n",
       "<style scoped>\n",
       "    .dataframe tbody tr th:only-of-type {\n",
       "        vertical-align: middle;\n",
       "    }\n",
       "\n",
       "    .dataframe tbody tr th {\n",
       "        vertical-align: top;\n",
       "    }\n",
       "\n",
       "    .dataframe thead th {\n",
       "        text-align: right;\n",
       "    }\n",
       "</style>\n",
       "<table border=\"1\" class=\"dataframe\">\n",
       "  <thead>\n",
       "    <tr style=\"text-align: right;\">\n",
       "      <th></th>\n",
       "      <th>0</th>\n",
       "      <th>1</th>\n",
       "      <th>2</th>\n",
       "      <th>3</th>\n",
       "      <th>4</th>\n",
       "      <th>5</th>\n",
       "      <th>6</th>\n",
       "      <th>7</th>\n",
       "      <th>8</th>\n",
       "      <th>9</th>\n",
       "    </tr>\n",
       "  </thead>\n",
       "  <tbody>\n",
       "    <tr>\n",
       "      <th>0</th>\n",
       "      <td>0.0</td>\n",
       "      <td>1.0</td>\n",
       "      <td>0.0</td>\n",
       "      <td>0</td>\n",
       "      <td>2017</td>\n",
       "      <td>15735</td>\n",
       "      <td>2</td>\n",
       "      <td>150</td>\n",
       "      <td>55.4</td>\n",
       "      <td>1.4</td>\n",
       "    </tr>\n",
       "    <tr>\n",
       "      <th>1</th>\n",
       "      <td>1.0</td>\n",
       "      <td>0.0</td>\n",
       "      <td>0.0</td>\n",
       "      <td>5</td>\n",
       "      <td>2016</td>\n",
       "      <td>36203</td>\n",
       "      <td>0</td>\n",
       "      <td>20</td>\n",
       "      <td>64.2</td>\n",
       "      <td>2.0</td>\n",
       "    </tr>\n",
       "    <tr>\n",
       "      <th>2</th>\n",
       "      <td>0.0</td>\n",
       "      <td>1.0</td>\n",
       "      <td>0.0</td>\n",
       "      <td>0</td>\n",
       "      <td>2016</td>\n",
       "      <td>29946</td>\n",
       "      <td>2</td>\n",
       "      <td>30</td>\n",
       "      <td>55.4</td>\n",
       "      <td>1.4</td>\n",
       "    </tr>\n",
       "    <tr>\n",
       "      <th>3</th>\n",
       "      <td>1.0</td>\n",
       "      <td>0.0</td>\n",
       "      <td>0.0</td>\n",
       "      <td>3</td>\n",
       "      <td>2017</td>\n",
       "      <td>25952</td>\n",
       "      <td>0</td>\n",
       "      <td>145</td>\n",
       "      <td>67.3</td>\n",
       "      <td>2.0</td>\n",
       "    </tr>\n",
       "    <tr>\n",
       "      <th>4</th>\n",
       "      <td>0.0</td>\n",
       "      <td>1.0</td>\n",
       "      <td>0.0</td>\n",
       "      <td>2</td>\n",
       "      <td>2019</td>\n",
       "      <td>1998</td>\n",
       "      <td>2</td>\n",
       "      <td>145</td>\n",
       "      <td>49.6</td>\n",
       "      <td>1.0</td>\n",
       "    </tr>\n",
       "    <tr>\n",
       "      <th>...</th>\n",
       "      <td>...</td>\n",
       "      <td>...</td>\n",
       "      <td>...</td>\n",
       "      <td>...</td>\n",
       "      <td>...</td>\n",
       "      <td>...</td>\n",
       "      <td>...</td>\n",
       "      <td>...</td>\n",
       "      <td>...</td>\n",
       "      <td>...</td>\n",
       "    </tr>\n",
       "    <tr>\n",
       "      <th>10663</th>\n",
       "      <td>0.0</td>\n",
       "      <td>1.0</td>\n",
       "      <td>0.0</td>\n",
       "      <td>2</td>\n",
       "      <td>2020</td>\n",
       "      <td>4018</td>\n",
       "      <td>2</td>\n",
       "      <td>145</td>\n",
       "      <td>49.6</td>\n",
       "      <td>1.0</td>\n",
       "    </tr>\n",
       "    <tr>\n",
       "      <th>10664</th>\n",
       "      <td>0.0</td>\n",
       "      <td>1.0</td>\n",
       "      <td>0.0</td>\n",
       "      <td>2</td>\n",
       "      <td>2020</td>\n",
       "      <td>1978</td>\n",
       "      <td>2</td>\n",
       "      <td>150</td>\n",
       "      <td>49.6</td>\n",
       "      <td>1.0</td>\n",
       "    </tr>\n",
       "    <tr>\n",
       "      <th>10665</th>\n",
       "      <td>0.0</td>\n",
       "      <td>1.0</td>\n",
       "      <td>0.0</td>\n",
       "      <td>2</td>\n",
       "      <td>2020</td>\n",
       "      <td>609</td>\n",
       "      <td>2</td>\n",
       "      <td>150</td>\n",
       "      <td>49.6</td>\n",
       "      <td>1.0</td>\n",
       "    </tr>\n",
       "    <tr>\n",
       "      <th>10666</th>\n",
       "      <td>1.0</td>\n",
       "      <td>0.0</td>\n",
       "      <td>0.0</td>\n",
       "      <td>9</td>\n",
       "      <td>2017</td>\n",
       "      <td>8646</td>\n",
       "      <td>2</td>\n",
       "      <td>150</td>\n",
       "      <td>47.9</td>\n",
       "      <td>1.4</td>\n",
       "    </tr>\n",
       "    <tr>\n",
       "      <th>10667</th>\n",
       "      <td>0.0</td>\n",
       "      <td>1.0</td>\n",
       "      <td>0.0</td>\n",
       "      <td>9</td>\n",
       "      <td>2016</td>\n",
       "      <td>11855</td>\n",
       "      <td>2</td>\n",
       "      <td>150</td>\n",
       "      <td>47.9</td>\n",
       "      <td>1.4</td>\n",
       "    </tr>\n",
       "  </tbody>\n",
       "</table>\n",
       "<p>10668 rows × 10 columns</p>\n",
       "</div>"
      ],
      "text/plain": [
       "         0    1    2  3     4      5  6    7     8    9\n",
       "0      0.0  1.0  0.0  0  2017  15735  2  150  55.4  1.4\n",
       "1      1.0  0.0  0.0  5  2016  36203  0   20  64.2  2.0\n",
       "2      0.0  1.0  0.0  0  2016  29946  2   30  55.4  1.4\n",
       "3      1.0  0.0  0.0  3  2017  25952  0  145  67.3  2.0\n",
       "4      0.0  1.0  0.0  2  2019   1998  2  145  49.6  1.0\n",
       "...    ...  ...  ... ..   ...    ... ..  ...   ...  ...\n",
       "10663  0.0  1.0  0.0  2  2020   4018  2  145  49.6  1.0\n",
       "10664  0.0  1.0  0.0  2  2020   1978  2  150  49.6  1.0\n",
       "10665  0.0  1.0  0.0  2  2020    609  2  150  49.6  1.0\n",
       "10666  1.0  0.0  0.0  9  2017   8646  2  150  47.9  1.4\n",
       "10667  0.0  1.0  0.0  9  2016  11855  2  150  47.9  1.4\n",
       "\n",
       "[10668 rows x 10 columns]"
      ]
     },
     "metadata": {},
     "output_type": "display_data"
    }
   ],
   "source": [
    "from sklearn.preprocessing import OneHotEncoder\n",
    "from sklearn.compose import ColumnTransformer\n",
    "ct = ColumnTransformer(transformers = [('encoder',OneHotEncoder(),[2])],remainder='passthrough')\n",
    "x = ct.fit_transform(x)\n",
    "display (x.shape)\n",
    "display (pd.DataFrame(x))"
   ]
  },
  {
   "cell_type": "markdown",
   "id": "e9a5abaa-b0c7-44f4-96af-878da39b115c",
   "metadata": {},
   "source": [
    "## Features Scaling – Standardization "
   ]
  },
  {
   "cell_type": "code",
   "execution_count": 61,
   "id": "b74bf1d1-c4c7-4fba-bcd9-b2f2c07cadc8",
   "metadata": {},
   "outputs": [
    {
     "data": {
      "text/html": [
       "<div>\n",
       "<style scoped>\n",
       "    .dataframe tbody tr th:only-of-type {\n",
       "        vertical-align: middle;\n",
       "    }\n",
       "\n",
       "    .dataframe tbody tr th {\n",
       "        vertical-align: top;\n",
       "    }\n",
       "\n",
       "    .dataframe thead th {\n",
       "        text-align: right;\n",
       "    }\n",
       "</style>\n",
       "<table border=\"1\" class=\"dataframe\">\n",
       "  <thead>\n",
       "    <tr style=\"text-align: right;\">\n",
       "      <th></th>\n",
       "      <th>0</th>\n",
       "      <th>1</th>\n",
       "      <th>2</th>\n",
       "      <th>3</th>\n",
       "      <th>4</th>\n",
       "      <th>5</th>\n",
       "      <th>6</th>\n",
       "      <th>7</th>\n",
       "      <th>8</th>\n",
       "      <th>9</th>\n",
       "    </tr>\n",
       "  </thead>\n",
       "  <tbody>\n",
       "    <tr>\n",
       "      <th>0</th>\n",
       "      <td>-0.583268</td>\n",
       "      <td>1.200728</td>\n",
       "      <td>-0.712333</td>\n",
       "      <td>-1.123544</td>\n",
       "      <td>-0.046450</td>\n",
       "      <td>-0.386836</td>\n",
       "      <td>1.050783</td>\n",
       "      <td>0.357147</td>\n",
       "      <td>0.357550</td>\n",
       "      <td>-0.880218</td>\n",
       "    </tr>\n",
       "    <tr>\n",
       "      <th>1</th>\n",
       "      <td>1.714479</td>\n",
       "      <td>-0.832828</td>\n",
       "      <td>-0.712333</td>\n",
       "      <td>-0.160831</td>\n",
       "      <td>-0.507834</td>\n",
       "      <td>0.483989</td>\n",
       "      <td>-0.954181</td>\n",
       "      <td>-1.578323</td>\n",
       "      <td>1.037130</td>\n",
       "      <td>0.114925</td>\n",
       "    </tr>\n",
       "    <tr>\n",
       "      <th>2</th>\n",
       "      <td>-0.583268</td>\n",
       "      <td>1.200728</td>\n",
       "      <td>-0.712333</td>\n",
       "      <td>-1.123544</td>\n",
       "      <td>-0.507834</td>\n",
       "      <td>0.217781</td>\n",
       "      <td>1.050783</td>\n",
       "      <td>-1.429440</td>\n",
       "      <td>0.357550</td>\n",
       "      <td>-0.880218</td>\n",
       "    </tr>\n",
       "    <tr>\n",
       "      <th>3</th>\n",
       "      <td>1.714479</td>\n",
       "      <td>-0.832828</td>\n",
       "      <td>-0.712333</td>\n",
       "      <td>-0.545916</td>\n",
       "      <td>-0.046450</td>\n",
       "      <td>0.047853</td>\n",
       "      <td>-0.954181</td>\n",
       "      <td>0.282706</td>\n",
       "      <td>1.276528</td>\n",
       "      <td>0.114925</td>\n",
       "    </tr>\n",
       "    <tr>\n",
       "      <th>4</th>\n",
       "      <td>-0.583268</td>\n",
       "      <td>1.200728</td>\n",
       "      <td>-0.712333</td>\n",
       "      <td>-0.738459</td>\n",
       "      <td>0.876318</td>\n",
       "      <td>-0.971285</td>\n",
       "      <td>1.050783</td>\n",
       "      <td>0.282706</td>\n",
       "      <td>-0.090355</td>\n",
       "      <td>-1.543647</td>\n",
       "    </tr>\n",
       "    <tr>\n",
       "      <th>...</th>\n",
       "      <td>...</td>\n",
       "      <td>...</td>\n",
       "      <td>...</td>\n",
       "      <td>...</td>\n",
       "      <td>...</td>\n",
       "      <td>...</td>\n",
       "      <td>...</td>\n",
       "      <td>...</td>\n",
       "      <td>...</td>\n",
       "      <td>...</td>\n",
       "    </tr>\n",
       "    <tr>\n",
       "      <th>10663</th>\n",
       "      <td>-0.583268</td>\n",
       "      <td>1.200728</td>\n",
       "      <td>-0.712333</td>\n",
       "      <td>-0.738459</td>\n",
       "      <td>1.337702</td>\n",
       "      <td>-0.885343</td>\n",
       "      <td>1.050783</td>\n",
       "      <td>0.282706</td>\n",
       "      <td>-0.090355</td>\n",
       "      <td>-1.543647</td>\n",
       "    </tr>\n",
       "    <tr>\n",
       "      <th>10664</th>\n",
       "      <td>-0.583268</td>\n",
       "      <td>1.200728</td>\n",
       "      <td>-0.712333</td>\n",
       "      <td>-0.738459</td>\n",
       "      <td>1.337702</td>\n",
       "      <td>-0.972136</td>\n",
       "      <td>1.050783</td>\n",
       "      <td>0.357147</td>\n",
       "      <td>-0.090355</td>\n",
       "      <td>-1.543647</td>\n",
       "    </tr>\n",
       "    <tr>\n",
       "      <th>10665</th>\n",
       "      <td>-0.583268</td>\n",
       "      <td>1.200728</td>\n",
       "      <td>-0.712333</td>\n",
       "      <td>-0.738459</td>\n",
       "      <td>1.337702</td>\n",
       "      <td>-1.030381</td>\n",
       "      <td>1.050783</td>\n",
       "      <td>0.357147</td>\n",
       "      <td>-0.090355</td>\n",
       "      <td>-1.543647</td>\n",
       "    </tr>\n",
       "    <tr>\n",
       "      <th>10666</th>\n",
       "      <td>1.714479</td>\n",
       "      <td>-0.832828</td>\n",
       "      <td>-0.712333</td>\n",
       "      <td>0.609339</td>\n",
       "      <td>-0.046450</td>\n",
       "      <td>-0.688442</td>\n",
       "      <td>1.050783</td>\n",
       "      <td>0.357147</td>\n",
       "      <td>-0.221637</td>\n",
       "      <td>-0.880218</td>\n",
       "    </tr>\n",
       "    <tr>\n",
       "      <th>10667</th>\n",
       "      <td>-0.583268</td>\n",
       "      <td>1.200728</td>\n",
       "      <td>-0.712333</td>\n",
       "      <td>0.609339</td>\n",
       "      <td>-0.507834</td>\n",
       "      <td>-0.551913</td>\n",
       "      <td>1.050783</td>\n",
       "      <td>0.357147</td>\n",
       "      <td>-0.221637</td>\n",
       "      <td>-0.880218</td>\n",
       "    </tr>\n",
       "  </tbody>\n",
       "</table>\n",
       "<p>10668 rows × 10 columns</p>\n",
       "</div>"
      ],
      "text/plain": [
       "              0         1         2         3         4         5         6  \\\n",
       "0     -0.583268  1.200728 -0.712333 -1.123544 -0.046450 -0.386836  1.050783   \n",
       "1      1.714479 -0.832828 -0.712333 -0.160831 -0.507834  0.483989 -0.954181   \n",
       "2     -0.583268  1.200728 -0.712333 -1.123544 -0.507834  0.217781  1.050783   \n",
       "3      1.714479 -0.832828 -0.712333 -0.545916 -0.046450  0.047853 -0.954181   \n",
       "4     -0.583268  1.200728 -0.712333 -0.738459  0.876318 -0.971285  1.050783   \n",
       "...         ...       ...       ...       ...       ...       ...       ...   \n",
       "10663 -0.583268  1.200728 -0.712333 -0.738459  1.337702 -0.885343  1.050783   \n",
       "10664 -0.583268  1.200728 -0.712333 -0.738459  1.337702 -0.972136  1.050783   \n",
       "10665 -0.583268  1.200728 -0.712333 -0.738459  1.337702 -1.030381  1.050783   \n",
       "10666  1.714479 -0.832828 -0.712333  0.609339 -0.046450 -0.688442  1.050783   \n",
       "10667 -0.583268  1.200728 -0.712333  0.609339 -0.507834 -0.551913  1.050783   \n",
       "\n",
       "              7         8         9  \n",
       "0      0.357147  0.357550 -0.880218  \n",
       "1     -1.578323  1.037130  0.114925  \n",
       "2     -1.429440  0.357550 -0.880218  \n",
       "3      0.282706  1.276528  0.114925  \n",
       "4      0.282706 -0.090355 -1.543647  \n",
       "...         ...       ...       ...  \n",
       "10663  0.282706 -0.090355 -1.543647  \n",
       "10664  0.357147 -0.090355 -1.543647  \n",
       "10665  0.357147 -0.090355 -1.543647  \n",
       "10666  0.357147 -0.221637 -0.880218  \n",
       "10667  0.357147 -0.221637 -0.880218  \n",
       "\n",
       "[10668 rows x 10 columns]"
      ]
     },
     "metadata": {},
     "output_type": "display_data"
    }
   ],
   "source": [
    "from sklearn.preprocessing import StandardScaler\n",
    "sc=StandardScaler()\n",
    "x=sc.fit_transform(x)\n",
    "display(pd.DataFrame(x))"
   ]
  },
  {
   "cell_type": "markdown",
   "id": "f9d9fe00-8763-4907-bb2b-5ad48c5d916c",
   "metadata": {},
   "source": [
    "## Train Test Split "
   ]
  },
  {
   "cell_type": "code",
   "execution_count": 62,
   "id": "7844ac16-abbe-4c61-9e53-c04ff110a07c",
   "metadata": {},
   "outputs": [
    {
     "name": "stdout",
     "output_type": "stream",
     "text": [
      "(10668, 10) (10668, 1)\n",
      "(8534, 10) (8534, 1)\n",
      "(2134, 10) (2134, 1)\n"
     ]
    }
   ],
   "source": [
    "from sklearn.model_selection import train_test_split\n",
    "(x_train,x_test,y_train,y_test)=train_test_split(x,y,test_size=0.2,random_state=0)\n",
    "print(x.shape,y.shape)\n",
    "print(x_train.shape,y_train.shape)\n",
    "print(x_test.shape,y_test.shape)"
   ]
  },
  {
   "cell_type": "markdown",
   "id": "704e5378-7cc2-465a-839c-45e7e984adb7",
   "metadata": {},
   "source": [
    "## Create Random Forest Regressor"
   ]
  },
  {
   "cell_type": "code",
   "execution_count": 63,
   "id": "53f818e2-2f9d-4bb0-87e4-682c5e6fa264",
   "metadata": {},
   "outputs": [
    {
     "data": {
      "text/html": [
       "<style>#sk-container-id-4 {color: black;}#sk-container-id-4 pre{padding: 0;}#sk-container-id-4 div.sk-toggleable {background-color: white;}#sk-container-id-4 label.sk-toggleable__label {cursor: pointer;display: block;width: 100%;margin-bottom: 0;padding: 0.3em;box-sizing: border-box;text-align: center;}#sk-container-id-4 label.sk-toggleable__label-arrow:before {content: \"▸\";float: left;margin-right: 0.25em;color: #696969;}#sk-container-id-4 label.sk-toggleable__label-arrow:hover:before {color: black;}#sk-container-id-4 div.sk-estimator:hover label.sk-toggleable__label-arrow:before {color: black;}#sk-container-id-4 div.sk-toggleable__content {max-height: 0;max-width: 0;overflow: hidden;text-align: left;background-color: #f0f8ff;}#sk-container-id-4 div.sk-toggleable__content pre {margin: 0.2em;color: black;border-radius: 0.25em;background-color: #f0f8ff;}#sk-container-id-4 input.sk-toggleable__control:checked~div.sk-toggleable__content {max-height: 200px;max-width: 100%;overflow: auto;}#sk-container-id-4 input.sk-toggleable__control:checked~label.sk-toggleable__label-arrow:before {content: \"▾\";}#sk-container-id-4 div.sk-estimator input.sk-toggleable__control:checked~label.sk-toggleable__label {background-color: #d4ebff;}#sk-container-id-4 div.sk-label input.sk-toggleable__control:checked~label.sk-toggleable__label {background-color: #d4ebff;}#sk-container-id-4 input.sk-hidden--visually {border: 0;clip: rect(1px 1px 1px 1px);clip: rect(1px, 1px, 1px, 1px);height: 1px;margin: -1px;overflow: hidden;padding: 0;position: absolute;width: 1px;}#sk-container-id-4 div.sk-estimator {font-family: monospace;background-color: #f0f8ff;border: 1px dotted black;border-radius: 0.25em;box-sizing: border-box;margin-bottom: 0.5em;}#sk-container-id-4 div.sk-estimator:hover {background-color: #d4ebff;}#sk-container-id-4 div.sk-parallel-item::after {content: \"\";width: 100%;border-bottom: 1px solid gray;flex-grow: 1;}#sk-container-id-4 div.sk-label:hover label.sk-toggleable__label {background-color: #d4ebff;}#sk-container-id-4 div.sk-serial::before {content: \"\";position: absolute;border-left: 1px solid gray;box-sizing: border-box;top: 0;bottom: 0;left: 50%;z-index: 0;}#sk-container-id-4 div.sk-serial {display: flex;flex-direction: column;align-items: center;background-color: white;padding-right: 0.2em;padding-left: 0.2em;position: relative;}#sk-container-id-4 div.sk-item {position: relative;z-index: 1;}#sk-container-id-4 div.sk-parallel {display: flex;align-items: stretch;justify-content: center;background-color: white;position: relative;}#sk-container-id-4 div.sk-item::before, #sk-container-id-4 div.sk-parallel-item::before {content: \"\";position: absolute;border-left: 1px solid gray;box-sizing: border-box;top: 0;bottom: 0;left: 50%;z-index: -1;}#sk-container-id-4 div.sk-parallel-item {display: flex;flex-direction: column;z-index: 1;position: relative;background-color: white;}#sk-container-id-4 div.sk-parallel-item:first-child::after {align-self: flex-end;width: 50%;}#sk-container-id-4 div.sk-parallel-item:last-child::after {align-self: flex-start;width: 50%;}#sk-container-id-4 div.sk-parallel-item:only-child::after {width: 0;}#sk-container-id-4 div.sk-dashed-wrapped {border: 1px dashed gray;margin: 0 0.4em 0.5em 0.4em;box-sizing: border-box;padding-bottom: 0.4em;background-color: white;}#sk-container-id-4 div.sk-label label {font-family: monospace;font-weight: bold;display: inline-block;line-height: 1.2em;}#sk-container-id-4 div.sk-label-container {text-align: center;}#sk-container-id-4 div.sk-container {/* jupyter's `normalize.less` sets `[hidden] { display: none; }` but bootstrap.min.css set `[hidden] { display: none !important; }` so we also need the `!important` here to be able to override the default hidden behavior on the sphinx rendered scikit-learn.org. See: https://github.com/scikit-learn/scikit-learn/issues/21755 */display: inline-block !important;position: relative;}#sk-container-id-4 div.sk-text-repr-fallback {display: none;}</style><div id=\"sk-container-id-4\" class=\"sk-top-container\"><div class=\"sk-text-repr-fallback\"><pre>RandomForestRegressor()</pre><b>In a Jupyter environment, please rerun this cell to show the HTML representation or trust the notebook. <br />On GitHub, the HTML representation is unable to render, please try loading this page with nbviewer.org.</b></div><div class=\"sk-container\" hidden><div class=\"sk-item\"><div class=\"sk-estimator sk-toggleable\"><input class=\"sk-toggleable__control sk-hidden--visually\" id=\"sk-estimator-id-6\" type=\"checkbox\" checked><label for=\"sk-estimator-id-6\" class=\"sk-toggleable__label sk-toggleable__label-arrow\">RandomForestRegressor</label><div class=\"sk-toggleable__content\"><pre>RandomForestRegressor()</pre></div></div></div></div></div>"
      ],
      "text/plain": [
       "RandomForestRegressor()"
      ]
     },
     "metadata": {},
     "output_type": "display_data"
    }
   ],
   "source": [
    "from sklearn.ensemble import RandomForestRegressor\n",
    "rf=RandomForestRegressor()\n",
    "rf.fit(x_train,y_train)\n",
    "display(rf)"
   ]
  },
  {
   "cell_type": "markdown",
   "id": "b232e170-1406-45c1-ba2b-1e7af3ba4010",
   "metadata": {},
   "source": [
    "## Prediction with test data"
   ]
  },
  {
   "cell_type": "code",
   "execution_count": 64,
   "id": "ad9255a6-a66c-46ef-8fc8-4fcddcc476b6",
   "metadata": {},
   "outputs": [
    {
     "data": {
      "text/plain": [
       "array([14385.89, 23745.5 , 27500.51, ..., 46110.12, 31220.21, 10174.49])"
      ]
     },
     "metadata": {},
     "output_type": "display_data"
    }
   ],
   "source": [
    "y_pred=rf.predict(x_test)\n",
    "display(y_pred)"
   ]
  },
  {
   "cell_type": "markdown",
   "id": "35a18780-d0ce-4d47-a2a7-a94796617d95",
   "metadata": {},
   "source": [
    "## Display actual and Predicted Values "
   ]
  },
  {
   "cell_type": "code",
   "execution_count": 65,
   "id": "78c4c974-af99-4a67-ba7b-dd350e5e157b",
   "metadata": {},
   "outputs": [
    {
     "name": "stdout",
     "output_type": "stream",
     "text": [
      "      Car Price  Price Prediction\n",
      "0         14998          14385.89\n",
      "1         21950          23745.50\n",
      "2         28990          27500.51\n",
      "3         25489          27340.40\n",
      "4         30950          32250.90\n",
      "...         ...               ...\n",
      "2129      23700          40060.83\n",
      "2130      18000          16699.46\n",
      "2131      45995          46110.12\n",
      "2132      30500          31220.21\n",
      "2133       8400          10174.49\n",
      "\n",
      "[2134 rows x 2 columns]\n"
     ]
    }
   ],
   "source": [
    "print (pd.concat ([pd.DataFrame(y_test.reshape(len(y_test),1),columns =['Car Price']), \n",
    "                   pd.DataFrame(y_pred.reshape(len(y_pred),1),columns =['Price Prediction'])],axis =1))"
   ]
  },
  {
   "cell_type": "markdown",
   "id": "795741ea-0caf-41d4-bbd6-dedace602cc4",
   "metadata": {},
   "source": [
    "## Display – Accuracy and Mean Absolute Error "
   ]
  },
  {
   "cell_type": "code",
   "execution_count": 66,
   "id": "282d48b7-35f2-4421-b0c5-d291d050ce92",
   "metadata": {},
   "outputs": [
    {
     "name": "stdout",
     "output_type": "stream",
     "text": [
      "Accuracy:  0.9549077020003282\n",
      "Mean_Absolute_Error:  1523.9082074217038\n"
     ]
    }
   ],
   "source": [
    "from sklearn.metrics import r2_score,mean_absolute_error\n",
    "print('Accuracy: ',r2_score(y_test,y_pred))\n",
    "print('Mean_Absolute_Error: ',mean_absolute_error(y_test,y_pred))"
   ]
  },
  {
   "cell_type": "markdown",
   "id": "6121e21e-e5e1-406d-8405-439ed20d2bca",
   "metadata": {},
   "source": [
    "## Prediction with complete data"
   ]
  },
  {
   "cell_type": "code",
   "execution_count": 67,
   "id": "62b191a8-895f-4a5b-b78d-9218bb62a062",
   "metadata": {},
   "outputs": [
    {
     "data": {
      "text/plain": [
       "array([12789.3 , 16620.17, 11768.37, ..., 17574.47, 20339.79, 18481.96])"
      ]
     },
     "metadata": {},
     "output_type": "display_data"
    }
   ],
   "source": [
    "c_pred=rf.predict(x)\n",
    "display(c_pred)"
   ]
  },
  {
   "cell_type": "markdown",
   "id": "65085d38-d0a5-4b0a-99a0-d14c053b61fa",
   "metadata": {},
   "source": [
    "## Display actual and Predicted Values"
   ]
  },
  {
   "cell_type": "code",
   "execution_count": 68,
   "id": "39a059e2-525f-474b-ad41-5abe3eb412f0",
   "metadata": {},
   "outputs": [
    {
     "data": {
      "text/html": [
       "<div>\n",
       "<style scoped>\n",
       "    .dataframe tbody tr th:only-of-type {\n",
       "        vertical-align: middle;\n",
       "    }\n",
       "\n",
       "    .dataframe tbody tr th {\n",
       "        vertical-align: top;\n",
       "    }\n",
       "\n",
       "    .dataframe thead th {\n",
       "        text-align: right;\n",
       "    }\n",
       "</style>\n",
       "<table border=\"1\" class=\"dataframe\">\n",
       "  <thead>\n",
       "    <tr style=\"text-align: right;\">\n",
       "      <th></th>\n",
       "      <th>model</th>\n",
       "      <th>year</th>\n",
       "      <th>price</th>\n",
       "      <th>transmission</th>\n",
       "      <th>mileage</th>\n",
       "      <th>fuelType</th>\n",
       "      <th>tax</th>\n",
       "      <th>mpg</th>\n",
       "      <th>engineSize</th>\n",
       "      <th>Price Prediction</th>\n",
       "    </tr>\n",
       "  </thead>\n",
       "  <tbody>\n",
       "    <tr>\n",
       "      <th>0</th>\n",
       "      <td>A1</td>\n",
       "      <td>2017</td>\n",
       "      <td>12500</td>\n",
       "      <td>Manual</td>\n",
       "      <td>15735</td>\n",
       "      <td>Petrol</td>\n",
       "      <td>150</td>\n",
       "      <td>55.4</td>\n",
       "      <td>1.4</td>\n",
       "      <td>12789.30</td>\n",
       "    </tr>\n",
       "    <tr>\n",
       "      <th>1</th>\n",
       "      <td>A6</td>\n",
       "      <td>2016</td>\n",
       "      <td>16500</td>\n",
       "      <td>Automatic</td>\n",
       "      <td>36203</td>\n",
       "      <td>Diesel</td>\n",
       "      <td>20</td>\n",
       "      <td>64.2</td>\n",
       "      <td>2.0</td>\n",
       "      <td>16620.17</td>\n",
       "    </tr>\n",
       "    <tr>\n",
       "      <th>2</th>\n",
       "      <td>A1</td>\n",
       "      <td>2016</td>\n",
       "      <td>11000</td>\n",
       "      <td>Manual</td>\n",
       "      <td>29946</td>\n",
       "      <td>Petrol</td>\n",
       "      <td>30</td>\n",
       "      <td>55.4</td>\n",
       "      <td>1.4</td>\n",
       "      <td>11768.37</td>\n",
       "    </tr>\n",
       "    <tr>\n",
       "      <th>3</th>\n",
       "      <td>A4</td>\n",
       "      <td>2017</td>\n",
       "      <td>16800</td>\n",
       "      <td>Automatic</td>\n",
       "      <td>25952</td>\n",
       "      <td>Diesel</td>\n",
       "      <td>145</td>\n",
       "      <td>67.3</td>\n",
       "      <td>2.0</td>\n",
       "      <td>17646.41</td>\n",
       "    </tr>\n",
       "    <tr>\n",
       "      <th>4</th>\n",
       "      <td>A3</td>\n",
       "      <td>2019</td>\n",
       "      <td>17300</td>\n",
       "      <td>Manual</td>\n",
       "      <td>1998</td>\n",
       "      <td>Petrol</td>\n",
       "      <td>145</td>\n",
       "      <td>49.6</td>\n",
       "      <td>1.0</td>\n",
       "      <td>17254.83</td>\n",
       "    </tr>\n",
       "    <tr>\n",
       "      <th>...</th>\n",
       "      <td>...</td>\n",
       "      <td>...</td>\n",
       "      <td>...</td>\n",
       "      <td>...</td>\n",
       "      <td>...</td>\n",
       "      <td>...</td>\n",
       "      <td>...</td>\n",
       "      <td>...</td>\n",
       "      <td>...</td>\n",
       "      <td>...</td>\n",
       "    </tr>\n",
       "    <tr>\n",
       "      <th>10663</th>\n",
       "      <td>A3</td>\n",
       "      <td>2020</td>\n",
       "      <td>16999</td>\n",
       "      <td>Manual</td>\n",
       "      <td>4018</td>\n",
       "      <td>Petrol</td>\n",
       "      <td>145</td>\n",
       "      <td>49.6</td>\n",
       "      <td>1.0</td>\n",
       "      <td>17001.39</td>\n",
       "    </tr>\n",
       "    <tr>\n",
       "      <th>10664</th>\n",
       "      <td>A3</td>\n",
       "      <td>2020</td>\n",
       "      <td>16999</td>\n",
       "      <td>Manual</td>\n",
       "      <td>1978</td>\n",
       "      <td>Petrol</td>\n",
       "      <td>150</td>\n",
       "      <td>49.6</td>\n",
       "      <td>1.0</td>\n",
       "      <td>17198.60</td>\n",
       "    </tr>\n",
       "    <tr>\n",
       "      <th>10665</th>\n",
       "      <td>A3</td>\n",
       "      <td>2020</td>\n",
       "      <td>17199</td>\n",
       "      <td>Manual</td>\n",
       "      <td>609</td>\n",
       "      <td>Petrol</td>\n",
       "      <td>150</td>\n",
       "      <td>49.6</td>\n",
       "      <td>1.0</td>\n",
       "      <td>17574.47</td>\n",
       "    </tr>\n",
       "    <tr>\n",
       "      <th>10666</th>\n",
       "      <td>Q3</td>\n",
       "      <td>2017</td>\n",
       "      <td>19499</td>\n",
       "      <td>Automatic</td>\n",
       "      <td>8646</td>\n",
       "      <td>Petrol</td>\n",
       "      <td>150</td>\n",
       "      <td>47.9</td>\n",
       "      <td>1.4</td>\n",
       "      <td>20339.79</td>\n",
       "    </tr>\n",
       "    <tr>\n",
       "      <th>10667</th>\n",
       "      <td>Q3</td>\n",
       "      <td>2016</td>\n",
       "      <td>15999</td>\n",
       "      <td>Manual</td>\n",
       "      <td>11855</td>\n",
       "      <td>Petrol</td>\n",
       "      <td>150</td>\n",
       "      <td>47.9</td>\n",
       "      <td>1.4</td>\n",
       "      <td>18481.96</td>\n",
       "    </tr>\n",
       "  </tbody>\n",
       "</table>\n",
       "<p>10668 rows × 10 columns</p>\n",
       "</div>"
      ],
      "text/plain": [
       "      model  year  price transmission  mileage fuelType  tax   mpg  \\\n",
       "0        A1  2017  12500       Manual    15735   Petrol  150  55.4   \n",
       "1        A6  2016  16500    Automatic    36203   Diesel   20  64.2   \n",
       "2        A1  2016  11000       Manual    29946   Petrol   30  55.4   \n",
       "3        A4  2017  16800    Automatic    25952   Diesel  145  67.3   \n",
       "4        A3  2019  17300       Manual     1998   Petrol  145  49.6   \n",
       "...     ...   ...    ...          ...      ...      ...  ...   ...   \n",
       "10663    A3  2020  16999       Manual     4018   Petrol  145  49.6   \n",
       "10664    A3  2020  16999       Manual     1978   Petrol  150  49.6   \n",
       "10665    A3  2020  17199       Manual      609   Petrol  150  49.6   \n",
       "10666    Q3  2017  19499    Automatic     8646   Petrol  150  47.9   \n",
       "10667    Q3  2016  15999       Manual    11855   Petrol  150  47.9   \n",
       "\n",
       "       engineSize  Price Prediction  \n",
       "0             1.4          12789.30  \n",
       "1             2.0          16620.17  \n",
       "2             1.4          11768.37  \n",
       "3             2.0          17646.41  \n",
       "4             1.0          17254.83  \n",
       "...           ...               ...  \n",
       "10663         1.0          17001.39  \n",
       "10664         1.0          17198.60  \n",
       "10665         1.0          17574.47  \n",
       "10666         1.4          20339.79  \n",
       "10667         1.4          18481.96  \n",
       "\n",
       "[10668 rows x 10 columns]"
      ]
     },
     "metadata": {},
     "output_type": "display_data"
    }
   ],
   "source": [
    "display(pd.concat ([car_data,pd.DataFrame(c_pred.reshape(len(c_pred),1),columns =['Price Prediction'])],axis =1))"
   ]
  },
  {
   "cell_type": "markdown",
   "id": "ecb1a3ee-8915-4a70-a690-05a051299609",
   "metadata": {},
   "source": [
    "## Display – Accuracy and Mean Absolute Error"
   ]
  },
  {
   "cell_type": "code",
   "execution_count": 69,
   "id": "e00fd2ae-e8d4-479a-991a-c55904bec8fe",
   "metadata": {},
   "outputs": [
    {
     "name": "stdout",
     "output_type": "stream",
     "text": [
      "Accuracy:  0.9857427123869804\n",
      "Mean_Absolute_Error:  782.5519665607719\n"
     ]
    }
   ],
   "source": [
    "from sklearn.metrics import r2_score,mean_absolute_error\n",
    "print('Accuracy: ',r2_score(y,c_pred))\n",
    "print('Mean_Absolute_Error: ',mean_absolute_error(y,c_pred))"
   ]
  },
  {
   "cell_type": "markdown",
   "id": "01d13617-5043-431a-93ab-85bb8ea41925",
   "metadata": {},
   "source": [
    "## Create Linear Regression Model"
   ]
  },
  {
   "cell_type": "code",
   "execution_count": 70,
   "id": "7f68f42d-561e-4d2d-be30-db2592078992",
   "metadata": {},
   "outputs": [
    {
     "data": {
      "text/html": [
       "<style>#sk-container-id-5 {color: black;}#sk-container-id-5 pre{padding: 0;}#sk-container-id-5 div.sk-toggleable {background-color: white;}#sk-container-id-5 label.sk-toggleable__label {cursor: pointer;display: block;width: 100%;margin-bottom: 0;padding: 0.3em;box-sizing: border-box;text-align: center;}#sk-container-id-5 label.sk-toggleable__label-arrow:before {content: \"▸\";float: left;margin-right: 0.25em;color: #696969;}#sk-container-id-5 label.sk-toggleable__label-arrow:hover:before {color: black;}#sk-container-id-5 div.sk-estimator:hover label.sk-toggleable__label-arrow:before {color: black;}#sk-container-id-5 div.sk-toggleable__content {max-height: 0;max-width: 0;overflow: hidden;text-align: left;background-color: #f0f8ff;}#sk-container-id-5 div.sk-toggleable__content pre {margin: 0.2em;color: black;border-radius: 0.25em;background-color: #f0f8ff;}#sk-container-id-5 input.sk-toggleable__control:checked~div.sk-toggleable__content {max-height: 200px;max-width: 100%;overflow: auto;}#sk-container-id-5 input.sk-toggleable__control:checked~label.sk-toggleable__label-arrow:before {content: \"▾\";}#sk-container-id-5 div.sk-estimator input.sk-toggleable__control:checked~label.sk-toggleable__label {background-color: #d4ebff;}#sk-container-id-5 div.sk-label input.sk-toggleable__control:checked~label.sk-toggleable__label {background-color: #d4ebff;}#sk-container-id-5 input.sk-hidden--visually {border: 0;clip: rect(1px 1px 1px 1px);clip: rect(1px, 1px, 1px, 1px);height: 1px;margin: -1px;overflow: hidden;padding: 0;position: absolute;width: 1px;}#sk-container-id-5 div.sk-estimator {font-family: monospace;background-color: #f0f8ff;border: 1px dotted black;border-radius: 0.25em;box-sizing: border-box;margin-bottom: 0.5em;}#sk-container-id-5 div.sk-estimator:hover {background-color: #d4ebff;}#sk-container-id-5 div.sk-parallel-item::after {content: \"\";width: 100%;border-bottom: 1px solid gray;flex-grow: 1;}#sk-container-id-5 div.sk-label:hover label.sk-toggleable__label {background-color: #d4ebff;}#sk-container-id-5 div.sk-serial::before {content: \"\";position: absolute;border-left: 1px solid gray;box-sizing: border-box;top: 0;bottom: 0;left: 50%;z-index: 0;}#sk-container-id-5 div.sk-serial {display: flex;flex-direction: column;align-items: center;background-color: white;padding-right: 0.2em;padding-left: 0.2em;position: relative;}#sk-container-id-5 div.sk-item {position: relative;z-index: 1;}#sk-container-id-5 div.sk-parallel {display: flex;align-items: stretch;justify-content: center;background-color: white;position: relative;}#sk-container-id-5 div.sk-item::before, #sk-container-id-5 div.sk-parallel-item::before {content: \"\";position: absolute;border-left: 1px solid gray;box-sizing: border-box;top: 0;bottom: 0;left: 50%;z-index: -1;}#sk-container-id-5 div.sk-parallel-item {display: flex;flex-direction: column;z-index: 1;position: relative;background-color: white;}#sk-container-id-5 div.sk-parallel-item:first-child::after {align-self: flex-end;width: 50%;}#sk-container-id-5 div.sk-parallel-item:last-child::after {align-self: flex-start;width: 50%;}#sk-container-id-5 div.sk-parallel-item:only-child::after {width: 0;}#sk-container-id-5 div.sk-dashed-wrapped {border: 1px dashed gray;margin: 0 0.4em 0.5em 0.4em;box-sizing: border-box;padding-bottom: 0.4em;background-color: white;}#sk-container-id-5 div.sk-label label {font-family: monospace;font-weight: bold;display: inline-block;line-height: 1.2em;}#sk-container-id-5 div.sk-label-container {text-align: center;}#sk-container-id-5 div.sk-container {/* jupyter's `normalize.less` sets `[hidden] { display: none; }` but bootstrap.min.css set `[hidden] { display: none !important; }` so we also need the `!important` here to be able to override the default hidden behavior on the sphinx rendered scikit-learn.org. See: https://github.com/scikit-learn/scikit-learn/issues/21755 */display: inline-block !important;position: relative;}#sk-container-id-5 div.sk-text-repr-fallback {display: none;}</style><div id=\"sk-container-id-5\" class=\"sk-top-container\"><div class=\"sk-text-repr-fallback\"><pre>LinearRegression()</pre><b>In a Jupyter environment, please rerun this cell to show the HTML representation or trust the notebook. <br />On GitHub, the HTML representation is unable to render, please try loading this page with nbviewer.org.</b></div><div class=\"sk-container\" hidden><div class=\"sk-item\"><div class=\"sk-estimator sk-toggleable\"><input class=\"sk-toggleable__control sk-hidden--visually\" id=\"sk-estimator-id-7\" type=\"checkbox\" checked><label for=\"sk-estimator-id-7\" class=\"sk-toggleable__label sk-toggleable__label-arrow\">LinearRegression</label><div class=\"sk-toggleable__content\"><pre>LinearRegression()</pre></div></div></div></div></div>"
      ],
      "text/plain": [
       "LinearRegression()"
      ]
     },
     "metadata": {},
     "output_type": "display_data"
    }
   ],
   "source": [
    "from sklearn.linear_model import LinearRegression\n",
    "lr=LinearRegression()\n",
    "lr.fit(x_train,y_train)\n",
    "display(lr)"
   ]
  },
  {
   "cell_type": "markdown",
   "id": "5e8bfc5a-e4e6-4f8f-ae0e-e1bf98819900",
   "metadata": {},
   "source": [
    "## Prediction with test data"
   ]
  },
  {
   "cell_type": "code",
   "execution_count": 71,
   "id": "1e7d9a27-4494-4bc1-ada8-172aba78905a",
   "metadata": {},
   "outputs": [
    {
     "data": {
      "text/html": [
       "<div>\n",
       "<style scoped>\n",
       "    .dataframe tbody tr th:only-of-type {\n",
       "        vertical-align: middle;\n",
       "    }\n",
       "\n",
       "    .dataframe tbody tr th {\n",
       "        vertical-align: top;\n",
       "    }\n",
       "\n",
       "    .dataframe thead th {\n",
       "        text-align: right;\n",
       "    }\n",
       "</style>\n",
       "<table border=\"1\" class=\"dataframe\">\n",
       "  <thead>\n",
       "    <tr style=\"text-align: right;\">\n",
       "      <th></th>\n",
       "      <th>0</th>\n",
       "    </tr>\n",
       "  </thead>\n",
       "  <tbody>\n",
       "    <tr>\n",
       "      <th>0</th>\n",
       "      <td>13062.417648</td>\n",
       "    </tr>\n",
       "    <tr>\n",
       "      <th>1</th>\n",
       "      <td>29350.247388</td>\n",
       "    </tr>\n",
       "    <tr>\n",
       "      <th>2</th>\n",
       "      <td>31943.967808</td>\n",
       "    </tr>\n",
       "    <tr>\n",
       "      <th>3</th>\n",
       "      <td>26795.619718</td>\n",
       "    </tr>\n",
       "    <tr>\n",
       "      <th>4</th>\n",
       "      <td>31438.948683</td>\n",
       "    </tr>\n",
       "    <tr>\n",
       "      <th>...</th>\n",
       "      <td>...</td>\n",
       "    </tr>\n",
       "    <tr>\n",
       "      <th>2129</th>\n",
       "      <td>41582.338659</td>\n",
       "    </tr>\n",
       "    <tr>\n",
       "      <th>2130</th>\n",
       "      <td>20715.033809</td>\n",
       "    </tr>\n",
       "    <tr>\n",
       "      <th>2131</th>\n",
       "      <td>42611.259923</td>\n",
       "    </tr>\n",
       "    <tr>\n",
       "      <th>2132</th>\n",
       "      <td>31515.735002</td>\n",
       "    </tr>\n",
       "    <tr>\n",
       "      <th>2133</th>\n",
       "      <td>7294.332756</td>\n",
       "    </tr>\n",
       "  </tbody>\n",
       "</table>\n",
       "<p>2134 rows × 1 columns</p>\n",
       "</div>"
      ],
      "text/plain": [
       "                 0\n",
       "0     13062.417648\n",
       "1     29350.247388\n",
       "2     31943.967808\n",
       "3     26795.619718\n",
       "4     31438.948683\n",
       "...            ...\n",
       "2129  41582.338659\n",
       "2130  20715.033809\n",
       "2131  42611.259923\n",
       "2132  31515.735002\n",
       "2133   7294.332756\n",
       "\n",
       "[2134 rows x 1 columns]"
      ]
     },
     "metadata": {},
     "output_type": "display_data"
    }
   ],
   "source": [
    "y_pred=lr.predict(x_test)\n",
    "display(pd.DataFrame(y_pred))"
   ]
  },
  {
   "cell_type": "markdown",
   "id": "468ada03-0f0f-49f1-bca5-bbaf27b0e473",
   "metadata": {},
   "source": [
    "## Display Actual and Predicted Values"
   ]
  },
  {
   "cell_type": "code",
   "execution_count": 72,
   "id": "6679bd21-2c89-4126-be23-ea6f9895ec58",
   "metadata": {},
   "outputs": [
    {
     "name": "stdout",
     "output_type": "stream",
     "text": [
      "      Car Price  Price Prediction\n",
      "0         14998      13062.417648\n",
      "1         21950      29350.247388\n",
      "2         28990      31943.967808\n",
      "3         25489      26795.619718\n",
      "4         30950      31438.948683\n",
      "...         ...               ...\n",
      "2129      23700      41582.338659\n",
      "2130      18000      20715.033809\n",
      "2131      45995      42611.259923\n",
      "2132      30500      31515.735002\n",
      "2133       8400       7294.332756\n",
      "\n",
      "[2134 rows x 2 columns]\n"
     ]
    }
   ],
   "source": [
    "print (pd.concat ([pd.DataFrame(y_test.reshape(len(y_test),1),columns =['Car Price']), \n",
    "                   pd.DataFrame(y_pred.reshape(len(y_pred),1),columns =['Price Prediction'])],axis =1))"
   ]
  },
  {
   "cell_type": "markdown",
   "id": "bff266c2-0b6e-4b9c-8014-ab7d522151e6",
   "metadata": {},
   "source": [
    "## Display- Accuracy and Mean Absolute Error"
   ]
  },
  {
   "cell_type": "code",
   "execution_count": 73,
   "id": "9c0c105f-0787-4041-aa2c-60a79a4781f0",
   "metadata": {},
   "outputs": [
    {
     "name": "stdout",
     "output_type": "stream",
     "text": [
      "Accuracy:  0.7916670925031881\n",
      "Mean_Absolute_Error:  3381.9167483000706\n"
     ]
    }
   ],
   "source": [
    "from sklearn.metrics import r2_score,mean_absolute_error\n",
    "print('Accuracy: ',r2_score(y_test,y_pred))\n",
    "print('Mean_Absolute_Error: ',mean_absolute_error(y_test,y_pred))"
   ]
  },
  {
   "cell_type": "markdown",
   "id": "6647d5ac-4529-4463-b34e-73a30a02eb1c",
   "metadata": {},
   "source": [
    "## Prediction for complete dataset"
   ]
  },
  {
   "cell_type": "code",
   "execution_count": 74,
   "id": "4e819e60-d406-46fc-8f11-1dd2a394837a",
   "metadata": {},
   "outputs": [
    {
     "data": {
      "text/plain": [
       "array([[14629.83482405],\n",
       "       [20670.90779921],\n",
       "       [13810.01031988],\n",
       "       ...,\n",
       "       [19407.66134549],\n",
       "       [21034.83116012],\n",
       "       [16691.09313906]])"
      ]
     },
     "metadata": {},
     "output_type": "display_data"
    }
   ],
   "source": [
    "c_pred=lr.predict(x)\n",
    "display(c_pred)"
   ]
  },
  {
   "cell_type": "markdown",
   "id": "fb286dff-7b6b-40fb-a337-0abb96b19824",
   "metadata": {},
   "source": [
    "## Display Actual and Predicted values"
   ]
  },
  {
   "cell_type": "code",
   "execution_count": 75,
   "id": "c14223f5-6148-4047-b46c-2ac3ec0d53ef",
   "metadata": {},
   "outputs": [
    {
     "data": {
      "text/html": [
       "<div>\n",
       "<style scoped>\n",
       "    .dataframe tbody tr th:only-of-type {\n",
       "        vertical-align: middle;\n",
       "    }\n",
       "\n",
       "    .dataframe tbody tr th {\n",
       "        vertical-align: top;\n",
       "    }\n",
       "\n",
       "    .dataframe thead th {\n",
       "        text-align: right;\n",
       "    }\n",
       "</style>\n",
       "<table border=\"1\" class=\"dataframe\">\n",
       "  <thead>\n",
       "    <tr style=\"text-align: right;\">\n",
       "      <th></th>\n",
       "      <th>model</th>\n",
       "      <th>year</th>\n",
       "      <th>price</th>\n",
       "      <th>transmission</th>\n",
       "      <th>mileage</th>\n",
       "      <th>fuelType</th>\n",
       "      <th>tax</th>\n",
       "      <th>mpg</th>\n",
       "      <th>engineSize</th>\n",
       "      <th>Price Prediction</th>\n",
       "    </tr>\n",
       "  </thead>\n",
       "  <tbody>\n",
       "    <tr>\n",
       "      <th>0</th>\n",
       "      <td>A1</td>\n",
       "      <td>2017</td>\n",
       "      <td>12500</td>\n",
       "      <td>Manual</td>\n",
       "      <td>15735</td>\n",
       "      <td>Petrol</td>\n",
       "      <td>150</td>\n",
       "      <td>55.4</td>\n",
       "      <td>1.4</td>\n",
       "      <td>14629.834824</td>\n",
       "    </tr>\n",
       "    <tr>\n",
       "      <th>1</th>\n",
       "      <td>A6</td>\n",
       "      <td>2016</td>\n",
       "      <td>16500</td>\n",
       "      <td>Automatic</td>\n",
       "      <td>36203</td>\n",
       "      <td>Diesel</td>\n",
       "      <td>20</td>\n",
       "      <td>64.2</td>\n",
       "      <td>2.0</td>\n",
       "      <td>20670.907799</td>\n",
       "    </tr>\n",
       "    <tr>\n",
       "      <th>2</th>\n",
       "      <td>A1</td>\n",
       "      <td>2016</td>\n",
       "      <td>11000</td>\n",
       "      <td>Manual</td>\n",
       "      <td>29946</td>\n",
       "      <td>Petrol</td>\n",
       "      <td>30</td>\n",
       "      <td>55.4</td>\n",
       "      <td>1.4</td>\n",
       "      <td>13810.010320</td>\n",
       "    </tr>\n",
       "    <tr>\n",
       "      <th>3</th>\n",
       "      <td>A4</td>\n",
       "      <td>2017</td>\n",
       "      <td>16800</td>\n",
       "      <td>Automatic</td>\n",
       "      <td>25952</td>\n",
       "      <td>Diesel</td>\n",
       "      <td>145</td>\n",
       "      <td>67.3</td>\n",
       "      <td>2.0</td>\n",
       "      <td>19949.798672</td>\n",
       "    </tr>\n",
       "    <tr>\n",
       "      <th>4</th>\n",
       "      <td>A3</td>\n",
       "      <td>2019</td>\n",
       "      <td>17300</td>\n",
       "      <td>Manual</td>\n",
       "      <td>1998</td>\n",
       "      <td>Petrol</td>\n",
       "      <td>145</td>\n",
       "      <td>49.6</td>\n",
       "      <td>1.0</td>\n",
       "      <td>17350.396723</td>\n",
       "    </tr>\n",
       "    <tr>\n",
       "      <th>...</th>\n",
       "      <td>...</td>\n",
       "      <td>...</td>\n",
       "      <td>...</td>\n",
       "      <td>...</td>\n",
       "      <td>...</td>\n",
       "      <td>...</td>\n",
       "      <td>...</td>\n",
       "      <td>...</td>\n",
       "      <td>...</td>\n",
       "      <td>...</td>\n",
       "    </tr>\n",
       "    <tr>\n",
       "      <th>10663</th>\n",
       "      <td>A3</td>\n",
       "      <td>2020</td>\n",
       "      <td>16999</td>\n",
       "      <td>Manual</td>\n",
       "      <td>4018</td>\n",
       "      <td>Petrol</td>\n",
       "      <td>145</td>\n",
       "      <td>49.6</td>\n",
       "      <td>1.0</td>\n",
       "      <td>19190.495099</td>\n",
       "    </tr>\n",
       "    <tr>\n",
       "      <th>10664</th>\n",
       "      <td>A3</td>\n",
       "      <td>2020</td>\n",
       "      <td>16999</td>\n",
       "      <td>Manual</td>\n",
       "      <td>1978</td>\n",
       "      <td>Petrol</td>\n",
       "      <td>150</td>\n",
       "      <td>49.6</td>\n",
       "      <td>1.0</td>\n",
       "      <td>19277.571094</td>\n",
       "    </tr>\n",
       "    <tr>\n",
       "      <th>10665</th>\n",
       "      <td>A3</td>\n",
       "      <td>2020</td>\n",
       "      <td>17199</td>\n",
       "      <td>Manual</td>\n",
       "      <td>609</td>\n",
       "      <td>Petrol</td>\n",
       "      <td>150</td>\n",
       "      <td>49.6</td>\n",
       "      <td>1.0</td>\n",
       "      <td>19407.661345</td>\n",
       "    </tr>\n",
       "    <tr>\n",
       "      <th>10666</th>\n",
       "      <td>Q3</td>\n",
       "      <td>2017</td>\n",
       "      <td>19499</td>\n",
       "      <td>Automatic</td>\n",
       "      <td>8646</td>\n",
       "      <td>Petrol</td>\n",
       "      <td>150</td>\n",
       "      <td>47.9</td>\n",
       "      <td>1.4</td>\n",
       "      <td>21034.831160</td>\n",
       "    </tr>\n",
       "    <tr>\n",
       "      <th>10667</th>\n",
       "      <td>Q3</td>\n",
       "      <td>2016</td>\n",
       "      <td>15999</td>\n",
       "      <td>Manual</td>\n",
       "      <td>11855</td>\n",
       "      <td>Petrol</td>\n",
       "      <td>150</td>\n",
       "      <td>47.9</td>\n",
       "      <td>1.4</td>\n",
       "      <td>16691.093139</td>\n",
       "    </tr>\n",
       "  </tbody>\n",
       "</table>\n",
       "<p>10668 rows × 10 columns</p>\n",
       "</div>"
      ],
      "text/plain": [
       "      model  year  price transmission  mileage fuelType  tax   mpg  \\\n",
       "0        A1  2017  12500       Manual    15735   Petrol  150  55.4   \n",
       "1        A6  2016  16500    Automatic    36203   Diesel   20  64.2   \n",
       "2        A1  2016  11000       Manual    29946   Petrol   30  55.4   \n",
       "3        A4  2017  16800    Automatic    25952   Diesel  145  67.3   \n",
       "4        A3  2019  17300       Manual     1998   Petrol  145  49.6   \n",
       "...     ...   ...    ...          ...      ...      ...  ...   ...   \n",
       "10663    A3  2020  16999       Manual     4018   Petrol  145  49.6   \n",
       "10664    A3  2020  16999       Manual     1978   Petrol  150  49.6   \n",
       "10665    A3  2020  17199       Manual      609   Petrol  150  49.6   \n",
       "10666    Q3  2017  19499    Automatic     8646   Petrol  150  47.9   \n",
       "10667    Q3  2016  15999       Manual    11855   Petrol  150  47.9   \n",
       "\n",
       "       engineSize  Price Prediction  \n",
       "0             1.4      14629.834824  \n",
       "1             2.0      20670.907799  \n",
       "2             1.4      13810.010320  \n",
       "3             2.0      19949.798672  \n",
       "4             1.0      17350.396723  \n",
       "...           ...               ...  \n",
       "10663         1.0      19190.495099  \n",
       "10664         1.0      19277.571094  \n",
       "10665         1.0      19407.661345  \n",
       "10666         1.4      21034.831160  \n",
       "10667         1.4      16691.093139  \n",
       "\n",
       "[10668 rows x 10 columns]"
      ]
     },
     "metadata": {},
     "output_type": "display_data"
    }
   ],
   "source": [
    "display(pd.concat ([car_data,pd.DataFrame(c_pred.reshape(len(c_pred),1),columns =['Price Prediction'])],axis =1))"
   ]
  },
  {
   "cell_type": "markdown",
   "id": "ef2e14be-52e5-4fd1-8a46-8f4312544914",
   "metadata": {},
   "source": [
    "## Display-Accuracy and Mean Absolute Error"
   ]
  },
  {
   "cell_type": "code",
   "execution_count": 76,
   "id": "d3b658d9-c440-4ce8-8ed8-33b488d2d629",
   "metadata": {},
   "outputs": [
    {
     "name": "stdout",
     "output_type": "stream",
     "text": [
      "Accuracy:  0.7907228785075128\n",
      "Mean_Absolute_Error:  3344.6148563131032\n"
     ]
    }
   ],
   "source": [
    "from sklearn.metrics import r2_score,mean_absolute_error\n",
    "print('Accuracy: ',r2_score(y,c_pred))\n",
    "print('Mean_Absolute_Error: ',mean_absolute_error(y,c_pred))"
   ]
  },
  {
   "cell_type": "markdown",
   "id": "55629358-d2dc-4275-85eb-75db38bdff46",
   "metadata": {},
   "source": [
    "## Create Model Extra Tree Regressor "
   ]
  },
  {
   "cell_type": "code",
   "execution_count": 77,
   "id": "3d36c7c6-0827-407e-a957-3e376a5dcdba",
   "metadata": {},
   "outputs": [
    {
     "name": "stdout",
     "output_type": "stream",
     "text": [
      "Accuracy:  0.9578188965822916\n",
      "Mean_Absolute_Error:  1533.3951800218683\n"
     ]
    }
   ],
   "source": [
    "from sklearn.ensemble import  ExtraTreesRegressor\n",
    "ET=ExtraTreesRegressor(n_estimators = 120)\n",
    "ET.fit(x_train,y_train)\n",
    "y_pred=ET.predict(x_test)\n",
    "from sklearn.metrics import r2_score,mean_absolute_error\n",
    "print  ('Accuracy: ', r2_score(y_test, y_pred))\n",
    "print  ('Mean_Absolute_Error: ', mean_absolute_error(y_test,y_pred))"
   ]
  },
  {
   "cell_type": "markdown",
   "id": "33e1e360-99f5-4795-baa2-cacd6e90b94f",
   "metadata": {},
   "source": [
    "## Display the Result for Complete Dataset"
   ]
  },
  {
   "cell_type": "code",
   "execution_count": 78,
   "id": "b3e4d773-a564-43c6-8b40-0348fc2ee638",
   "metadata": {},
   "outputs": [
    {
     "data": {
      "text/plain": [
       "array([12500.   , 16500.   , 11000.   , ..., 17199.   , 19499.   ,\n",
       "       18205.125])"
      ]
     },
     "metadata": {},
     "output_type": "display_data"
    },
    {
     "data": {
      "text/html": [
       "<div>\n",
       "<style scoped>\n",
       "    .dataframe tbody tr th:only-of-type {\n",
       "        vertical-align: middle;\n",
       "    }\n",
       "\n",
       "    .dataframe tbody tr th {\n",
       "        vertical-align: top;\n",
       "    }\n",
       "\n",
       "    .dataframe thead th {\n",
       "        text-align: right;\n",
       "    }\n",
       "</style>\n",
       "<table border=\"1\" class=\"dataframe\">\n",
       "  <thead>\n",
       "    <tr style=\"text-align: right;\">\n",
       "      <th></th>\n",
       "      <th>model</th>\n",
       "      <th>year</th>\n",
       "      <th>price</th>\n",
       "      <th>transmission</th>\n",
       "      <th>mileage</th>\n",
       "      <th>fuelType</th>\n",
       "      <th>tax</th>\n",
       "      <th>mpg</th>\n",
       "      <th>engineSize</th>\n",
       "      <th>Price Prediction</th>\n",
       "    </tr>\n",
       "  </thead>\n",
       "  <tbody>\n",
       "    <tr>\n",
       "      <th>0</th>\n",
       "      <td>A1</td>\n",
       "      <td>2017</td>\n",
       "      <td>12500</td>\n",
       "      <td>Manual</td>\n",
       "      <td>15735</td>\n",
       "      <td>Petrol</td>\n",
       "      <td>150</td>\n",
       "      <td>55.4</td>\n",
       "      <td>1.4</td>\n",
       "      <td>12500.000</td>\n",
       "    </tr>\n",
       "    <tr>\n",
       "      <th>1</th>\n",
       "      <td>A6</td>\n",
       "      <td>2016</td>\n",
       "      <td>16500</td>\n",
       "      <td>Automatic</td>\n",
       "      <td>36203</td>\n",
       "      <td>Diesel</td>\n",
       "      <td>20</td>\n",
       "      <td>64.2</td>\n",
       "      <td>2.0</td>\n",
       "      <td>16500.000</td>\n",
       "    </tr>\n",
       "    <tr>\n",
       "      <th>2</th>\n",
       "      <td>A1</td>\n",
       "      <td>2016</td>\n",
       "      <td>11000</td>\n",
       "      <td>Manual</td>\n",
       "      <td>29946</td>\n",
       "      <td>Petrol</td>\n",
       "      <td>30</td>\n",
       "      <td>55.4</td>\n",
       "      <td>1.4</td>\n",
       "      <td>11000.000</td>\n",
       "    </tr>\n",
       "    <tr>\n",
       "      <th>3</th>\n",
       "      <td>A4</td>\n",
       "      <td>2017</td>\n",
       "      <td>16800</td>\n",
       "      <td>Automatic</td>\n",
       "      <td>25952</td>\n",
       "      <td>Diesel</td>\n",
       "      <td>145</td>\n",
       "      <td>67.3</td>\n",
       "      <td>2.0</td>\n",
       "      <td>16800.000</td>\n",
       "    </tr>\n",
       "    <tr>\n",
       "      <th>4</th>\n",
       "      <td>A3</td>\n",
       "      <td>2019</td>\n",
       "      <td>17300</td>\n",
       "      <td>Manual</td>\n",
       "      <td>1998</td>\n",
       "      <td>Petrol</td>\n",
       "      <td>145</td>\n",
       "      <td>49.6</td>\n",
       "      <td>1.0</td>\n",
       "      <td>17300.000</td>\n",
       "    </tr>\n",
       "    <tr>\n",
       "      <th>...</th>\n",
       "      <td>...</td>\n",
       "      <td>...</td>\n",
       "      <td>...</td>\n",
       "      <td>...</td>\n",
       "      <td>...</td>\n",
       "      <td>...</td>\n",
       "      <td>...</td>\n",
       "      <td>...</td>\n",
       "      <td>...</td>\n",
       "      <td>...</td>\n",
       "    </tr>\n",
       "    <tr>\n",
       "      <th>10663</th>\n",
       "      <td>A3</td>\n",
       "      <td>2020</td>\n",
       "      <td>16999</td>\n",
       "      <td>Manual</td>\n",
       "      <td>4018</td>\n",
       "      <td>Petrol</td>\n",
       "      <td>145</td>\n",
       "      <td>49.6</td>\n",
       "      <td>1.0</td>\n",
       "      <td>16999.000</td>\n",
       "    </tr>\n",
       "    <tr>\n",
       "      <th>10664</th>\n",
       "      <td>A3</td>\n",
       "      <td>2020</td>\n",
       "      <td>16999</td>\n",
       "      <td>Manual</td>\n",
       "      <td>1978</td>\n",
       "      <td>Petrol</td>\n",
       "      <td>150</td>\n",
       "      <td>49.6</td>\n",
       "      <td>1.0</td>\n",
       "      <td>16999.000</td>\n",
       "    </tr>\n",
       "    <tr>\n",
       "      <th>10665</th>\n",
       "      <td>A3</td>\n",
       "      <td>2020</td>\n",
       "      <td>17199</td>\n",
       "      <td>Manual</td>\n",
       "      <td>609</td>\n",
       "      <td>Petrol</td>\n",
       "      <td>150</td>\n",
       "      <td>49.6</td>\n",
       "      <td>1.0</td>\n",
       "      <td>17199.000</td>\n",
       "    </tr>\n",
       "    <tr>\n",
       "      <th>10666</th>\n",
       "      <td>Q3</td>\n",
       "      <td>2017</td>\n",
       "      <td>19499</td>\n",
       "      <td>Automatic</td>\n",
       "      <td>8646</td>\n",
       "      <td>Petrol</td>\n",
       "      <td>150</td>\n",
       "      <td>47.9</td>\n",
       "      <td>1.4</td>\n",
       "      <td>19499.000</td>\n",
       "    </tr>\n",
       "    <tr>\n",
       "      <th>10667</th>\n",
       "      <td>Q3</td>\n",
       "      <td>2016</td>\n",
       "      <td>15999</td>\n",
       "      <td>Manual</td>\n",
       "      <td>11855</td>\n",
       "      <td>Petrol</td>\n",
       "      <td>150</td>\n",
       "      <td>47.9</td>\n",
       "      <td>1.4</td>\n",
       "      <td>18205.125</td>\n",
       "    </tr>\n",
       "  </tbody>\n",
       "</table>\n",
       "<p>10668 rows × 10 columns</p>\n",
       "</div>"
      ],
      "text/plain": [
       "      model  year  price transmission  mileage fuelType  tax   mpg  \\\n",
       "0        A1  2017  12500       Manual    15735   Petrol  150  55.4   \n",
       "1        A6  2016  16500    Automatic    36203   Diesel   20  64.2   \n",
       "2        A1  2016  11000       Manual    29946   Petrol   30  55.4   \n",
       "3        A4  2017  16800    Automatic    25952   Diesel  145  67.3   \n",
       "4        A3  2019  17300       Manual     1998   Petrol  145  49.6   \n",
       "...     ...   ...    ...          ...      ...      ...  ...   ...   \n",
       "10663    A3  2020  16999       Manual     4018   Petrol  145  49.6   \n",
       "10664    A3  2020  16999       Manual     1978   Petrol  150  49.6   \n",
       "10665    A3  2020  17199       Manual      609   Petrol  150  49.6   \n",
       "10666    Q3  2017  19499    Automatic     8646   Petrol  150  47.9   \n",
       "10667    Q3  2016  15999       Manual    11855   Petrol  150  47.9   \n",
       "\n",
       "       engineSize  Price Prediction  \n",
       "0             1.4         12500.000  \n",
       "1             2.0         16500.000  \n",
       "2             1.4         11000.000  \n",
       "3             2.0         16800.000  \n",
       "4             1.0         17300.000  \n",
       "...           ...               ...  \n",
       "10663         1.0         16999.000  \n",
       "10664         1.0         16999.000  \n",
       "10665         1.0         17199.000  \n",
       "10666         1.4         19499.000  \n",
       "10667         1.4         18205.125  \n",
       "\n",
       "[10668 rows x 10 columns]"
      ]
     },
     "metadata": {},
     "output_type": "display_data"
    }
   ],
   "source": [
    "c_pred = ET.predict(x)\n",
    "display (c_pred)\n",
    "result = pd.concat([car_data,pd.DataFrame(c_pred,columns = ['Price Prediction'])],axis=1)\n",
    "display( result)"
   ]
  },
  {
   "cell_type": "markdown",
   "id": "27a6bc0d-3166-4634-9779-6bb97d1224ee",
   "metadata": {},
   "source": [
    "## Display – Accuracy and Mean Absolute Error "
   ]
  },
  {
   "cell_type": "code",
   "execution_count": 79,
   "id": "8c742381-6270-4bd8-9e88-12f6af3fcf6a",
   "metadata": {},
   "outputs": [
    {
     "name": "stdout",
     "output_type": "stream",
     "text": [
      "Accuracy:  0.9906480127089488\n",
      "Mean_Absolute_Error 349.5338314741908\n"
     ]
    }
   ],
   "source": [
    "from sklearn.metrics import r2_score,mean_absolute_error\n",
    "print  ('Accuracy: ', r2_score(y, c_pred))\n",
    "print  ('Mean_Absolute_Error', mean_absolute_error(y,c_pred))"
   ]
  },
  {
   "cell_type": "markdown",
   "id": "e78236b5-83d7-4806-978c-400c7ef09ee0",
   "metadata": {},
   "source": [
    "## RandomizedSearchCV"
   ]
  },
  {
   "cell_type": "code",
   "execution_count": 80,
   "id": "73bbc158-182e-4ddd-9590-4a668ad34ae6",
   "metadata": {},
   "outputs": [],
   "source": [
    "# Hyperparameter Tuning and RandomizedSearchCV - Model used – RandomForestRegressor\n",
    "from sklearn.model_selection import RandomizedSearchCV\n",
    "n_estimators = [int(x) for x in np.linspace(start = 80, stop = 1500, num = 10)]\n",
    "max_features = ['auto', 'sqrt']\n",
    "max_depth = [int(x) for x in np.linspace(6, 45, num = 5)]\n",
    "min_samples_split = [2, 5, 10, 15, 100]\n",
    "min_samples_leaf = [1, 2, 5, 10]"
   ]
  },
  {
   "cell_type": "markdown",
   "id": "25471b63-7570-464a-9ff5-a0e7c3f96867",
   "metadata": {},
   "source": [
    "## create random grid"
   ]
  },
  {
   "cell_type": "code",
   "execution_count": 81,
   "id": "d0090f7f-89b0-4ac8-9cb4-c2ca290740bf",
   "metadata": {},
   "outputs": [],
   "source": [
    "from sklearn.ensemble import RandomForestRegressor\n",
    "rand_grid={'n_estimators': n_estimators,\n",
    "               'max_features': max_features,\n",
    "               'max_depth': max_depth,\n",
    "               'min_samples_split': min_samples_split,\n",
    "               'min_samples_leaf': min_samples_leaf}\n",
    "\n",
    "rf=RandomForestRegressor()\n",
    "\n",
    "rCV=RandomizedSearchCV(estimator=rf,param_distributions=rand_grid,scoring='neg_mean_squared_error',n_iter=10,cv=5,random_state=42, n_jobs = -1)"
   ]
  },
  {
   "cell_type": "markdown",
   "id": "e1eab79d-950e-4735-9dce-e934944fece3",
   "metadata": {},
   "source": [
    "## Fit Model"
   ]
  },
  {
   "cell_type": "code",
   "execution_count": 82,
   "id": "6a7fdd97-10e1-4088-a0e2-3fed13eec586",
   "metadata": {},
   "outputs": [
    {
     "data": {
      "text/html": [
       "<style>#sk-container-id-6 {color: black;}#sk-container-id-6 pre{padding: 0;}#sk-container-id-6 div.sk-toggleable {background-color: white;}#sk-container-id-6 label.sk-toggleable__label {cursor: pointer;display: block;width: 100%;margin-bottom: 0;padding: 0.3em;box-sizing: border-box;text-align: center;}#sk-container-id-6 label.sk-toggleable__label-arrow:before {content: \"▸\";float: left;margin-right: 0.25em;color: #696969;}#sk-container-id-6 label.sk-toggleable__label-arrow:hover:before {color: black;}#sk-container-id-6 div.sk-estimator:hover label.sk-toggleable__label-arrow:before {color: black;}#sk-container-id-6 div.sk-toggleable__content {max-height: 0;max-width: 0;overflow: hidden;text-align: left;background-color: #f0f8ff;}#sk-container-id-6 div.sk-toggleable__content pre {margin: 0.2em;color: black;border-radius: 0.25em;background-color: #f0f8ff;}#sk-container-id-6 input.sk-toggleable__control:checked~div.sk-toggleable__content {max-height: 200px;max-width: 100%;overflow: auto;}#sk-container-id-6 input.sk-toggleable__control:checked~label.sk-toggleable__label-arrow:before {content: \"▾\";}#sk-container-id-6 div.sk-estimator input.sk-toggleable__control:checked~label.sk-toggleable__label {background-color: #d4ebff;}#sk-container-id-6 div.sk-label input.sk-toggleable__control:checked~label.sk-toggleable__label {background-color: #d4ebff;}#sk-container-id-6 input.sk-hidden--visually {border: 0;clip: rect(1px 1px 1px 1px);clip: rect(1px, 1px, 1px, 1px);height: 1px;margin: -1px;overflow: hidden;padding: 0;position: absolute;width: 1px;}#sk-container-id-6 div.sk-estimator {font-family: monospace;background-color: #f0f8ff;border: 1px dotted black;border-radius: 0.25em;box-sizing: border-box;margin-bottom: 0.5em;}#sk-container-id-6 div.sk-estimator:hover {background-color: #d4ebff;}#sk-container-id-6 div.sk-parallel-item::after {content: \"\";width: 100%;border-bottom: 1px solid gray;flex-grow: 1;}#sk-container-id-6 div.sk-label:hover label.sk-toggleable__label {background-color: #d4ebff;}#sk-container-id-6 div.sk-serial::before {content: \"\";position: absolute;border-left: 1px solid gray;box-sizing: border-box;top: 0;bottom: 0;left: 50%;z-index: 0;}#sk-container-id-6 div.sk-serial {display: flex;flex-direction: column;align-items: center;background-color: white;padding-right: 0.2em;padding-left: 0.2em;position: relative;}#sk-container-id-6 div.sk-item {position: relative;z-index: 1;}#sk-container-id-6 div.sk-parallel {display: flex;align-items: stretch;justify-content: center;background-color: white;position: relative;}#sk-container-id-6 div.sk-item::before, #sk-container-id-6 div.sk-parallel-item::before {content: \"\";position: absolute;border-left: 1px solid gray;box-sizing: border-box;top: 0;bottom: 0;left: 50%;z-index: -1;}#sk-container-id-6 div.sk-parallel-item {display: flex;flex-direction: column;z-index: 1;position: relative;background-color: white;}#sk-container-id-6 div.sk-parallel-item:first-child::after {align-self: flex-end;width: 50%;}#sk-container-id-6 div.sk-parallel-item:last-child::after {align-self: flex-start;width: 50%;}#sk-container-id-6 div.sk-parallel-item:only-child::after {width: 0;}#sk-container-id-6 div.sk-dashed-wrapped {border: 1px dashed gray;margin: 0 0.4em 0.5em 0.4em;box-sizing: border-box;padding-bottom: 0.4em;background-color: white;}#sk-container-id-6 div.sk-label label {font-family: monospace;font-weight: bold;display: inline-block;line-height: 1.2em;}#sk-container-id-6 div.sk-label-container {text-align: center;}#sk-container-id-6 div.sk-container {/* jupyter's `normalize.less` sets `[hidden] { display: none; }` but bootstrap.min.css set `[hidden] { display: none !important; }` so we also need the `!important` here to be able to override the default hidden behavior on the sphinx rendered scikit-learn.org. See: https://github.com/scikit-learn/scikit-learn/issues/21755 */display: inline-block !important;position: relative;}#sk-container-id-6 div.sk-text-repr-fallback {display: none;}</style><div id=\"sk-container-id-6\" class=\"sk-top-container\"><div class=\"sk-text-repr-fallback\"><pre>RandomizedSearchCV(cv=5, estimator=RandomForestRegressor(), n_jobs=-1,\n",
       "                   param_distributions={&#x27;max_depth&#x27;: [6, 15, 25, 35, 45],\n",
       "                                        &#x27;max_features&#x27;: [&#x27;auto&#x27;, &#x27;sqrt&#x27;],\n",
       "                                        &#x27;min_samples_leaf&#x27;: [1, 2, 5, 10],\n",
       "                                        &#x27;min_samples_split&#x27;: [2, 5, 10, 15,\n",
       "                                                              100],\n",
       "                                        &#x27;n_estimators&#x27;: [80, 237, 395, 553, 711,\n",
       "                                                         868, 1026, 1184, 1342,\n",
       "                                                         1500]},\n",
       "                   random_state=42, scoring=&#x27;neg_mean_squared_error&#x27;)</pre><b>In a Jupyter environment, please rerun this cell to show the HTML representation or trust the notebook. <br />On GitHub, the HTML representation is unable to render, please try loading this page with nbviewer.org.</b></div><div class=\"sk-container\" hidden><div class=\"sk-item sk-dashed-wrapped\"><div class=\"sk-label-container\"><div class=\"sk-label sk-toggleable\"><input class=\"sk-toggleable__control sk-hidden--visually\" id=\"sk-estimator-id-8\" type=\"checkbox\" ><label for=\"sk-estimator-id-8\" class=\"sk-toggleable__label sk-toggleable__label-arrow\">RandomizedSearchCV</label><div class=\"sk-toggleable__content\"><pre>RandomizedSearchCV(cv=5, estimator=RandomForestRegressor(), n_jobs=-1,\n",
       "                   param_distributions={&#x27;max_depth&#x27;: [6, 15, 25, 35, 45],\n",
       "                                        &#x27;max_features&#x27;: [&#x27;auto&#x27;, &#x27;sqrt&#x27;],\n",
       "                                        &#x27;min_samples_leaf&#x27;: [1, 2, 5, 10],\n",
       "                                        &#x27;min_samples_split&#x27;: [2, 5, 10, 15,\n",
       "                                                              100],\n",
       "                                        &#x27;n_estimators&#x27;: [80, 237, 395, 553, 711,\n",
       "                                                         868, 1026, 1184, 1342,\n",
       "                                                         1500]},\n",
       "                   random_state=42, scoring=&#x27;neg_mean_squared_error&#x27;)</pre></div></div></div><div class=\"sk-parallel\"><div class=\"sk-parallel-item\"><div class=\"sk-item\"><div class=\"sk-label-container\"><div class=\"sk-label sk-toggleable\"><input class=\"sk-toggleable__control sk-hidden--visually\" id=\"sk-estimator-id-9\" type=\"checkbox\" ><label for=\"sk-estimator-id-9\" class=\"sk-toggleable__label sk-toggleable__label-arrow\">estimator: RandomForestRegressor</label><div class=\"sk-toggleable__content\"><pre>RandomForestRegressor()</pre></div></div></div><div class=\"sk-serial\"><div class=\"sk-item\"><div class=\"sk-estimator sk-toggleable\"><input class=\"sk-toggleable__control sk-hidden--visually\" id=\"sk-estimator-id-10\" type=\"checkbox\" ><label for=\"sk-estimator-id-10\" class=\"sk-toggleable__label sk-toggleable__label-arrow\">RandomForestRegressor</label><div class=\"sk-toggleable__content\"><pre>RandomForestRegressor()</pre></div></div></div></div></div></div></div></div></div></div>"
      ],
      "text/plain": [
       "RandomizedSearchCV(cv=5, estimator=RandomForestRegressor(), n_jobs=-1,\n",
       "                   param_distributions={'max_depth': [6, 15, 25, 35, 45],\n",
       "                                        'max_features': ['auto', 'sqrt'],\n",
       "                                        'min_samples_leaf': [1, 2, 5, 10],\n",
       "                                        'min_samples_split': [2, 5, 10, 15,\n",
       "                                                              100],\n",
       "                                        'n_estimators': [80, 237, 395, 553, 711,\n",
       "                                                         868, 1026, 1184, 1342,\n",
       "                                                         1500]},\n",
       "                   random_state=42, scoring='neg_mean_squared_error')"
      ]
     },
     "metadata": {},
     "output_type": "display_data"
    }
   ],
   "source": [
    "display(rCV.fit(x_train,y_train))"
   ]
  },
  {
   "cell_type": "markdown",
   "id": "eef60017-cc64-4c2f-8267-020fd42d036a",
   "metadata": {},
   "source": [
    "## Prediction for test data"
   ]
  },
  {
   "cell_type": "code",
   "execution_count": 83,
   "id": "8cfe207b-8d1c-4845-9973-04fda0f2a35c",
   "metadata": {},
   "outputs": [
    {
     "data": {
      "text/plain": [
       "array([14105.02865017, 23660.41231408, 28513.04005731, ...,\n",
       "       48237.29610101, 31291.37418711, 10015.96560576])"
      ]
     },
     "metadata": {},
     "output_type": "display_data"
    }
   ],
   "source": [
    "rf_pred=rCV.predict(x_test)\n",
    "display (rf_pred)"
   ]
  },
  {
   "cell_type": "markdown",
   "id": "0552641a-d87b-4611-8958-923af49c64e5",
   "metadata": {},
   "source": [
    "## Display Mean Absolute Error and Mean Squared Error"
   ]
  },
  {
   "cell_type": "code",
   "execution_count": 84,
   "id": "bda17892-e631-435b-b9f6-82708711e875",
   "metadata": {},
   "outputs": [
    {
     "name": "stdout",
     "output_type": "stream",
     "text": [
      "MAE:  1502.9087162052797\n",
      "MSE:  5619248.988365508\n"
     ]
    }
   ],
   "source": [
    "from sklearn.metrics import mean_absolute_error,mean_squared_error\n",
    "print('MAE: ',mean_absolute_error(y_test,rf_pred))\n",
    "print('MSE: ',mean_squared_error(y_test,rf_pred))"
   ]
  },
  {
   "cell_type": "markdown",
   "id": "d703bd99-28cb-4a09-844a-86b1b8a34c7b",
   "metadata": {},
   "source": [
    "## Display the Accuracy"
   ]
  },
  {
   "cell_type": "code",
   "execution_count": 85,
   "id": "cb887baf-1575-47d0-b717-c169c419c3a0",
   "metadata": {},
   "outputs": [
    {
     "name": "stdout",
     "output_type": "stream",
     "text": [
      "Accuracy:  0.9591077568189572\n"
     ]
    }
   ],
   "source": [
    "from sklearn.metrics import r2_score\n",
    "print('Accuracy: ',r2_score(y_test,rf_pred))"
   ]
  },
  {
   "cell_type": "markdown",
   "id": "0592fb12-e685-4299-8168-4e6b4df10fec",
   "metadata": {},
   "source": [
    "## Display the Result Complete the Data "
   ]
  },
  {
   "cell_type": "code",
   "execution_count": 86,
   "id": "2e71584a-4234-4f0c-8e75-a9b1680b9c2f",
   "metadata": {},
   "outputs": [
    {
     "data": {
      "text/plain": [
       "array([13296.9181554 , 16581.95072185, 12002.25948257, ...,\n",
       "       18088.48778862, 20496.81127637, 18501.29955784])"
      ]
     },
     "metadata": {},
     "output_type": "display_data"
    }
   ],
   "source": [
    "full_rf_pred=rCV.predict(x)\n",
    "display (full_rf_pred)"
   ]
  },
  {
   "cell_type": "markdown",
   "id": "d9daf2fb-02ff-41e0-81d9-201574af0a63",
   "metadata": {},
   "source": [
    "## Display Error and accuracy "
   ]
  },
  {
   "cell_type": "code",
   "execution_count": 87,
   "id": "ead574eb-8136-4ee6-96d0-6cb0d0a39dc9",
   "metadata": {},
   "outputs": [
    {
     "name": "stdout",
     "output_type": "stream",
     "text": [
      "MAE:  1136.5366659186463\n",
      "MSE:  3154074.2243371014\n",
      "Accuracy:  0.9770152513778261\n"
     ]
    }
   ],
   "source": [
    "from sklearn.metrics import r2_score,mean_absolute_error,mean_squared_error\n",
    "print('MAE: ',mean_absolute_error(y,full_rf_pred))\n",
    "print('MSE: ',mean_squared_error(y,full_rf_pred))\n",
    "print('Accuracy: ',r2_score(y,full_rf_pred))"
   ]
  },
  {
   "cell_type": "markdown",
   "id": "19cbb6f6",
   "metadata": {},
   "source": [
    "# Create Random Forest Model Again"
   ]
  },
  {
   "cell_type": "code",
   "execution_count": 90,
   "id": "ae05d490",
   "metadata": {},
   "outputs": [
    {
     "data": {
      "text/html": [
       "<style>#sk-container-id-7 {color: black;}#sk-container-id-7 pre{padding: 0;}#sk-container-id-7 div.sk-toggleable {background-color: white;}#sk-container-id-7 label.sk-toggleable__label {cursor: pointer;display: block;width: 100%;margin-bottom: 0;padding: 0.3em;box-sizing: border-box;text-align: center;}#sk-container-id-7 label.sk-toggleable__label-arrow:before {content: \"▸\";float: left;margin-right: 0.25em;color: #696969;}#sk-container-id-7 label.sk-toggleable__label-arrow:hover:before {color: black;}#sk-container-id-7 div.sk-estimator:hover label.sk-toggleable__label-arrow:before {color: black;}#sk-container-id-7 div.sk-toggleable__content {max-height: 0;max-width: 0;overflow: hidden;text-align: left;background-color: #f0f8ff;}#sk-container-id-7 div.sk-toggleable__content pre {margin: 0.2em;color: black;border-radius: 0.25em;background-color: #f0f8ff;}#sk-container-id-7 input.sk-toggleable__control:checked~div.sk-toggleable__content {max-height: 200px;max-width: 100%;overflow: auto;}#sk-container-id-7 input.sk-toggleable__control:checked~label.sk-toggleable__label-arrow:before {content: \"▾\";}#sk-container-id-7 div.sk-estimator input.sk-toggleable__control:checked~label.sk-toggleable__label {background-color: #d4ebff;}#sk-container-id-7 div.sk-label input.sk-toggleable__control:checked~label.sk-toggleable__label {background-color: #d4ebff;}#sk-container-id-7 input.sk-hidden--visually {border: 0;clip: rect(1px 1px 1px 1px);clip: rect(1px, 1px, 1px, 1px);height: 1px;margin: -1px;overflow: hidden;padding: 0;position: absolute;width: 1px;}#sk-container-id-7 div.sk-estimator {font-family: monospace;background-color: #f0f8ff;border: 1px dotted black;border-radius: 0.25em;box-sizing: border-box;margin-bottom: 0.5em;}#sk-container-id-7 div.sk-estimator:hover {background-color: #d4ebff;}#sk-container-id-7 div.sk-parallel-item::after {content: \"\";width: 100%;border-bottom: 1px solid gray;flex-grow: 1;}#sk-container-id-7 div.sk-label:hover label.sk-toggleable__label {background-color: #d4ebff;}#sk-container-id-7 div.sk-serial::before {content: \"\";position: absolute;border-left: 1px solid gray;box-sizing: border-box;top: 0;bottom: 0;left: 50%;z-index: 0;}#sk-container-id-7 div.sk-serial {display: flex;flex-direction: column;align-items: center;background-color: white;padding-right: 0.2em;padding-left: 0.2em;position: relative;}#sk-container-id-7 div.sk-item {position: relative;z-index: 1;}#sk-container-id-7 div.sk-parallel {display: flex;align-items: stretch;justify-content: center;background-color: white;position: relative;}#sk-container-id-7 div.sk-item::before, #sk-container-id-7 div.sk-parallel-item::before {content: \"\";position: absolute;border-left: 1px solid gray;box-sizing: border-box;top: 0;bottom: 0;left: 50%;z-index: -1;}#sk-container-id-7 div.sk-parallel-item {display: flex;flex-direction: column;z-index: 1;position: relative;background-color: white;}#sk-container-id-7 div.sk-parallel-item:first-child::after {align-self: flex-end;width: 50%;}#sk-container-id-7 div.sk-parallel-item:last-child::after {align-self: flex-start;width: 50%;}#sk-container-id-7 div.sk-parallel-item:only-child::after {width: 0;}#sk-container-id-7 div.sk-dashed-wrapped {border: 1px dashed gray;margin: 0 0.4em 0.5em 0.4em;box-sizing: border-box;padding-bottom: 0.4em;background-color: white;}#sk-container-id-7 div.sk-label label {font-family: monospace;font-weight: bold;display: inline-block;line-height: 1.2em;}#sk-container-id-7 div.sk-label-container {text-align: center;}#sk-container-id-7 div.sk-container {/* jupyter's `normalize.less` sets `[hidden] { display: none; }` but bootstrap.min.css set `[hidden] { display: none !important; }` so we also need the `!important` here to be able to override the default hidden behavior on the sphinx rendered scikit-learn.org. See: https://github.com/scikit-learn/scikit-learn/issues/21755 */display: inline-block !important;position: relative;}#sk-container-id-7 div.sk-text-repr-fallback {display: none;}</style><div id=\"sk-container-id-7\" class=\"sk-top-container\"><div class=\"sk-text-repr-fallback\"><pre>RandomForestRegressor()</pre><b>In a Jupyter environment, please rerun this cell to show the HTML representation or trust the notebook. <br />On GitHub, the HTML representation is unable to render, please try loading this page with nbviewer.org.</b></div><div class=\"sk-container\" hidden><div class=\"sk-item\"><div class=\"sk-estimator sk-toggleable\"><input class=\"sk-toggleable__control sk-hidden--visually\" id=\"sk-estimator-id-11\" type=\"checkbox\" checked><label for=\"sk-estimator-id-11\" class=\"sk-toggleable__label sk-toggleable__label-arrow\">RandomForestRegressor</label><div class=\"sk-toggleable__content\"><pre>RandomForestRegressor()</pre></div></div></div></div></div>"
      ],
      "text/plain": [
       "RandomForestRegressor()"
      ]
     },
     "metadata": {},
     "output_type": "display_data"
    }
   ],
   "source": [
    "from sklearn.ensemble import RandomForestRegressor\n",
    "rf=RandomForestRegressor()\n",
    "rf.fit(x_train,y_train)\n",
    "display(rf)"
   ]
  },
  {
   "cell_type": "markdown",
   "id": "daf9e810-058e-48b2-afb2-b3b301365c6d",
   "metadata": {},
   "source": [
    "## Create Pickle File "
   ]
  },
  {
   "cell_type": "code",
   "execution_count": 91,
   "id": "0cfe9501-e699-4b2a-8b80-fc5da9e95183",
   "metadata": {},
   "outputs": [],
   "source": [
    "#Use pickle and scaler to save our model so that we can use it later\n",
    "import pickle\n",
    "\n",
    "# Save the trained model\n",
    "with open(\"random_forest.pkl\", \"wb\") as f:\n",
    "    pickle.dump(rf, f)\n",
    "\n",
    "# Save the scaler\n",
    "with open(\"random_scaler.pkl\", \"wb\") as f:\n",
    "    pickle.dump(sc, f)\n"
   ]
  },
  {
   "cell_type": "markdown",
   "id": "7cc64cfa-8066-44d3-aeda-4a3ccaa2f435",
   "metadata": {},
   "source": [
    "## Load Pickle File and  do Prediction  "
   ]
  },
  {
   "cell_type": "code",
   "execution_count": 92,
   "id": "304d7e9b-f3c4-474b-ad67-84f41aa768c1",
   "metadata": {},
   "outputs": [
    {
     "name": "stdout",
     "output_type": "stream",
     "text": [
      "[12849.35 16702.91 11603.73 ... 17749.04 20039.83 18647.81]\n"
     ]
    }
   ],
   "source": [
    "model=pickle.load(open('random_forest.pkl','rb'))\n",
    "p_pred = model.predict (x)\n",
    "print (p_pred)"
   ]
  },
  {
   "cell_type": "markdown",
   "id": "675df63d-2cad-4253-bcf4-6cebf5df20b5",
   "metadata": {},
   "source": [
    "## Display the result   "
   ]
  },
  {
   "cell_type": "code",
   "execution_count": 93,
   "id": "64b99222-b816-44bd-9ffb-69c6f78046f0",
   "metadata": {},
   "outputs": [
    {
     "data": {
      "text/html": [
       "<div>\n",
       "<style scoped>\n",
       "    .dataframe tbody tr th:only-of-type {\n",
       "        vertical-align: middle;\n",
       "    }\n",
       "\n",
       "    .dataframe tbody tr th {\n",
       "        vertical-align: top;\n",
       "    }\n",
       "\n",
       "    .dataframe thead th {\n",
       "        text-align: right;\n",
       "    }\n",
       "</style>\n",
       "<table border=\"1\" class=\"dataframe\">\n",
       "  <thead>\n",
       "    <tr style=\"text-align: right;\">\n",
       "      <th></th>\n",
       "      <th>model</th>\n",
       "      <th>year</th>\n",
       "      <th>price</th>\n",
       "      <th>transmission</th>\n",
       "      <th>mileage</th>\n",
       "      <th>fuelType</th>\n",
       "      <th>tax</th>\n",
       "      <th>mpg</th>\n",
       "      <th>engineSize</th>\n",
       "      <th>Price Prediction</th>\n",
       "    </tr>\n",
       "  </thead>\n",
       "  <tbody>\n",
       "    <tr>\n",
       "      <th>0</th>\n",
       "      <td>A1</td>\n",
       "      <td>2017</td>\n",
       "      <td>12500</td>\n",
       "      <td>Manual</td>\n",
       "      <td>15735</td>\n",
       "      <td>Petrol</td>\n",
       "      <td>150</td>\n",
       "      <td>55.4</td>\n",
       "      <td>1.4</td>\n",
       "      <td>12849.35</td>\n",
       "    </tr>\n",
       "    <tr>\n",
       "      <th>1</th>\n",
       "      <td>A6</td>\n",
       "      <td>2016</td>\n",
       "      <td>16500</td>\n",
       "      <td>Automatic</td>\n",
       "      <td>36203</td>\n",
       "      <td>Diesel</td>\n",
       "      <td>20</td>\n",
       "      <td>64.2</td>\n",
       "      <td>2.0</td>\n",
       "      <td>16702.91</td>\n",
       "    </tr>\n",
       "    <tr>\n",
       "      <th>2</th>\n",
       "      <td>A1</td>\n",
       "      <td>2016</td>\n",
       "      <td>11000</td>\n",
       "      <td>Manual</td>\n",
       "      <td>29946</td>\n",
       "      <td>Petrol</td>\n",
       "      <td>30</td>\n",
       "      <td>55.4</td>\n",
       "      <td>1.4</td>\n",
       "      <td>11603.73</td>\n",
       "    </tr>\n",
       "    <tr>\n",
       "      <th>3</th>\n",
       "      <td>A4</td>\n",
       "      <td>2017</td>\n",
       "      <td>16800</td>\n",
       "      <td>Automatic</td>\n",
       "      <td>25952</td>\n",
       "      <td>Diesel</td>\n",
       "      <td>145</td>\n",
       "      <td>67.3</td>\n",
       "      <td>2.0</td>\n",
       "      <td>17579.03</td>\n",
       "    </tr>\n",
       "    <tr>\n",
       "      <th>4</th>\n",
       "      <td>A3</td>\n",
       "      <td>2019</td>\n",
       "      <td>17300</td>\n",
       "      <td>Manual</td>\n",
       "      <td>1998</td>\n",
       "      <td>Petrol</td>\n",
       "      <td>145</td>\n",
       "      <td>49.6</td>\n",
       "      <td>1.0</td>\n",
       "      <td>17417.27</td>\n",
       "    </tr>\n",
       "    <tr>\n",
       "      <th>...</th>\n",
       "      <td>...</td>\n",
       "      <td>...</td>\n",
       "      <td>...</td>\n",
       "      <td>...</td>\n",
       "      <td>...</td>\n",
       "      <td>...</td>\n",
       "      <td>...</td>\n",
       "      <td>...</td>\n",
       "      <td>...</td>\n",
       "      <td>...</td>\n",
       "    </tr>\n",
       "    <tr>\n",
       "      <th>10663</th>\n",
       "      <td>A3</td>\n",
       "      <td>2020</td>\n",
       "      <td>16999</td>\n",
       "      <td>Manual</td>\n",
       "      <td>4018</td>\n",
       "      <td>Petrol</td>\n",
       "      <td>145</td>\n",
       "      <td>49.6</td>\n",
       "      <td>1.0</td>\n",
       "      <td>16922.19</td>\n",
       "    </tr>\n",
       "    <tr>\n",
       "      <th>10664</th>\n",
       "      <td>A3</td>\n",
       "      <td>2020</td>\n",
       "      <td>16999</td>\n",
       "      <td>Manual</td>\n",
       "      <td>1978</td>\n",
       "      <td>Petrol</td>\n",
       "      <td>150</td>\n",
       "      <td>49.6</td>\n",
       "      <td>1.0</td>\n",
       "      <td>17066.25</td>\n",
       "    </tr>\n",
       "    <tr>\n",
       "      <th>10665</th>\n",
       "      <td>A3</td>\n",
       "      <td>2020</td>\n",
       "      <td>17199</td>\n",
       "      <td>Manual</td>\n",
       "      <td>609</td>\n",
       "      <td>Petrol</td>\n",
       "      <td>150</td>\n",
       "      <td>49.6</td>\n",
       "      <td>1.0</td>\n",
       "      <td>17749.04</td>\n",
       "    </tr>\n",
       "    <tr>\n",
       "      <th>10666</th>\n",
       "      <td>Q3</td>\n",
       "      <td>2017</td>\n",
       "      <td>19499</td>\n",
       "      <td>Automatic</td>\n",
       "      <td>8646</td>\n",
       "      <td>Petrol</td>\n",
       "      <td>150</td>\n",
       "      <td>47.9</td>\n",
       "      <td>1.4</td>\n",
       "      <td>20039.83</td>\n",
       "    </tr>\n",
       "    <tr>\n",
       "      <th>10667</th>\n",
       "      <td>Q3</td>\n",
       "      <td>2016</td>\n",
       "      <td>15999</td>\n",
       "      <td>Manual</td>\n",
       "      <td>11855</td>\n",
       "      <td>Petrol</td>\n",
       "      <td>150</td>\n",
       "      <td>47.9</td>\n",
       "      <td>1.4</td>\n",
       "      <td>18647.81</td>\n",
       "    </tr>\n",
       "  </tbody>\n",
       "</table>\n",
       "<p>10668 rows × 10 columns</p>\n",
       "</div>"
      ],
      "text/plain": [
       "      model  year  price transmission  mileage fuelType  tax   mpg  \\\n",
       "0        A1  2017  12500       Manual    15735   Petrol  150  55.4   \n",
       "1        A6  2016  16500    Automatic    36203   Diesel   20  64.2   \n",
       "2        A1  2016  11000       Manual    29946   Petrol   30  55.4   \n",
       "3        A4  2017  16800    Automatic    25952   Diesel  145  67.3   \n",
       "4        A3  2019  17300       Manual     1998   Petrol  145  49.6   \n",
       "...     ...   ...    ...          ...      ...      ...  ...   ...   \n",
       "10663    A3  2020  16999       Manual     4018   Petrol  145  49.6   \n",
       "10664    A3  2020  16999       Manual     1978   Petrol  150  49.6   \n",
       "10665    A3  2020  17199       Manual      609   Petrol  150  49.6   \n",
       "10666    Q3  2017  19499    Automatic     8646   Petrol  150  47.9   \n",
       "10667    Q3  2016  15999       Manual    11855   Petrol  150  47.9   \n",
       "\n",
       "       engineSize  Price Prediction  \n",
       "0             1.4          12849.35  \n",
       "1             2.0          16702.91  \n",
       "2             1.4          11603.73  \n",
       "3             2.0          17579.03  \n",
       "4             1.0          17417.27  \n",
       "...           ...               ...  \n",
       "10663         1.0          16922.19  \n",
       "10664         1.0          17066.25  \n",
       "10665         1.0          17749.04  \n",
       "10666         1.4          20039.83  \n",
       "10667         1.4          18647.81  \n",
       "\n",
       "[10668 rows x 10 columns]"
      ]
     },
     "metadata": {},
     "output_type": "display_data"
    }
   ],
   "source": [
    "result = pd.concat([car_data,pd.DataFrame(p_pred ,columns = ['Price Prediction'])],axis=1)\n",
    "display( result)"
   ]
  },
  {
   "cell_type": "markdown",
   "id": "46346c2f-b666-472d-b7a2-655c87f516fd",
   "metadata": {},
   "source": [
    "## Display the Accuracy and Error   "
   ]
  },
  {
   "cell_type": "code",
   "execution_count": 94,
   "id": "ec4766d6-35b0-4253-bfa0-bd63e9c26d63",
   "metadata": {},
   "outputs": [
    {
     "name": "stdout",
     "output_type": "stream",
     "text": [
      "Accuracy:  0.986070203177762\n",
      "Mean_Absolute_Error:  784.2643814245056\n"
     ]
    }
   ],
   "source": [
    "from sklearn.metrics import r2_score,mean_absolute_error\n",
    "print  ('Accuracy: ', r2_score(y, p_pred))\n",
    "print  ('Mean_Absolute_Error: ', mean_absolute_error(y,p_pred))"
   ]
  }
 ],
 "metadata": {
  "kernelspec": {
   "display_name": "base",
   "language": "python",
   "name": "python3"
  },
  "language_info": {
   "codemirror_mode": {
    "name": "ipython",
    "version": 3
   },
   "file_extension": ".py",
   "mimetype": "text/x-python",
   "name": "python",
   "nbconvert_exporter": "python",
   "pygments_lexer": "ipython3",
   "version": "3.11.5"
  }
 },
 "nbformat": 4,
 "nbformat_minor": 5
}
